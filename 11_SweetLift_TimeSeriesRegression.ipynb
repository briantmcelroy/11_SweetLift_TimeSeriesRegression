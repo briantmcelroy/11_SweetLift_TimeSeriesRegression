{
 "cells": [
  {
   "cell_type": "markdown",
   "metadata": {},
   "source": [
    "Hello Brian!\n",
    "\n",
    "I’m happy to review your project today.\n",
    "I will mark your mistakes and give you some hints how it is possible to fix them. We are getting ready for real job, where your team leader/senior colleague will do exactly the same. Don't worry and study with pleasure! \n",
    "\n",
    "Below you will find my comments - **please do not move, modify or delete them**.\n",
    "\n",
    "You can find my comments in green, yellow or red boxes like this:\n",
    "\n",
    "<div class=\"alert alert-block alert-success\">\n",
    "<b>Reviewer's comment</b> <a class=\"tocSkip\"></a>\n",
    "\n",
    "Success. Everything is done succesfully.\n",
    "</div>\n",
    "\n",
    "<div class=\"alert alert-block alert-warning\">\n",
    "<b>Reviewer's comment</b> <a class=\"tocSkip\"></a>\n",
    "\n",
    "Remarks. Some recommendations.\n",
    "</div>\n",
    "\n",
    "<div class=\"alert alert-block alert-danger\">\n",
    "\n",
    "<b>Reviewer's comment</b> <a class=\"tocSkip\"></a>\n",
    "\n",
    "Needs fixing. The block requires some corrections. Work can't be accepted with the red comments.\n",
    "</div>\n",
    "\n",
    "You can answer me by using this:\n",
    "\n",
    "<div class=\"alert alert-block alert-info\">\n",
    "<b>Student answer.</b> <a class=\"tocSkip\"></a>\n",
    "\n",
    "Text here.\n",
    "</div>"
   ]
  },
  {
   "cell_type": "markdown",
   "metadata": {},
   "source": [
    "# Project description\n",
    "\n",
    "Sweet Lift Taxi company has collected historical data on taxi orders at airports. To attract more drivers during peak hours, we need to predict the amount of taxi orders for the next hour. Build a model for such a prediction.\n",
    "\n",
    "The RMSE metric on the test set should not be more than 48.\n",
    "\n",
    "## Project instructions\n",
    "\n",
    "1. Download the data and resample it by one hour.\n",
    "2. Analyze the data.\n",
    "3. Train different models with different hyperparameters. The test sample should be 10% of the initial dataset. \n",
    "4. Test the data using the test sample and provide a conclusion.\n",
    "\n",
    "## Data description\n",
    "\n",
    "The data is stored in file `taxi.csv`. The number of orders is in the '*num_orders*' column."
   ]
  },
  {
   "cell_type": "markdown",
   "metadata": {},
   "source": [
    "## Preparation"
   ]
  },
  {
   "cell_type": "markdown",
   "metadata": {},
   "source": [
    "### Initialize Libraries"
   ]
  },
  {
   "cell_type": "code",
   "execution_count": 1,
   "metadata": {},
   "outputs": [],
   "source": [
    "# Statistical libraries\n",
    "import pandas as pd\n",
    "from scipy import stats as st\n",
    "import numpy as np\n",
    "from sklearn.metrics import *\n",
    "from statsmodels.tsa.seasonal import seasonal_decompose\n",
    "\n",
    "# Machine Learning libraries\n",
    "from sklearn.linear_model import LinearRegression\n",
    "from sklearn.ensemble import RandomForestRegressor\n",
    "from sklearn.model_selection import train_test_split, GridSearchCV, KFold\n",
    "from pmdarima import auto_arima\n",
    "from statsmodels.tsa.stattools import arma_order_select_ic\n",
    "from statsmodels.tsa.statespace.sarimax import SARIMAX\n",
    "from statsmodels.tsa.ar_model import AutoReg, ar_select_order\n",
    "\n",
    "# Graphing libraries\n",
    "from matplotlib import pyplot as plt"
   ]
  },
  {
   "cell_type": "markdown",
   "metadata": {},
   "source": [
    "### Look at Dataframe"
   ]
  },
  {
   "cell_type": "code",
   "execution_count": null,
   "metadata": {},
   "outputs": [],
   "source": [
    "!zip -r "
   ]
  },
  {
   "cell_type": "code",
   "execution_count": 2,
   "metadata": {},
   "outputs": [],
   "source": [
    "# Read Dataframe\n",
    "df_raw = pd.read_csv('/datasets/taxi.csv', index_col=[0], parse_dates=[0])"
   ]
  },
  {
   "cell_type": "code",
   "execution_count": 3,
   "metadata": {},
   "outputs": [
    {
     "name": "stdout",
     "output_type": "stream",
     "text": [
      "<class 'pandas.core.frame.DataFrame'>\n",
      "DatetimeIndex: 26496 entries, 2018-03-01 00:00:00 to 2018-08-31 23:50:00\n",
      "Data columns (total 1 columns):\n",
      " #   Column      Non-Null Count  Dtype\n",
      "---  ------      --------------  -----\n",
      " 0   num_orders  26496 non-null  int64\n",
      "dtypes: int64(1)\n",
      "memory usage: 414.0 KB\n"
     ]
    },
    {
     "data": {
      "text/html": [
       "<div>\n",
       "<style scoped>\n",
       "    .dataframe tbody tr th:only-of-type {\n",
       "        vertical-align: middle;\n",
       "    }\n",
       "\n",
       "    .dataframe tbody tr th {\n",
       "        vertical-align: top;\n",
       "    }\n",
       "\n",
       "    .dataframe thead th {\n",
       "        text-align: right;\n",
       "    }\n",
       "</style>\n",
       "<table border=\"1\" class=\"dataframe\">\n",
       "  <thead>\n",
       "    <tr style=\"text-align: right;\">\n",
       "      <th></th>\n",
       "      <th>num_orders</th>\n",
       "    </tr>\n",
       "    <tr>\n",
       "      <th>datetime</th>\n",
       "      <th></th>\n",
       "    </tr>\n",
       "  </thead>\n",
       "  <tbody>\n",
       "    <tr>\n",
       "      <th>2018-03-01 00:00:00</th>\n",
       "      <td>9</td>\n",
       "    </tr>\n",
       "    <tr>\n",
       "      <th>2018-03-01 00:10:00</th>\n",
       "      <td>14</td>\n",
       "    </tr>\n",
       "    <tr>\n",
       "      <th>2018-03-01 00:20:00</th>\n",
       "      <td>28</td>\n",
       "    </tr>\n",
       "    <tr>\n",
       "      <th>2018-03-01 00:30:00</th>\n",
       "      <td>20</td>\n",
       "    </tr>\n",
       "    <tr>\n",
       "      <th>2018-03-01 00:40:00</th>\n",
       "      <td>32</td>\n",
       "    </tr>\n",
       "    <tr>\n",
       "      <th>2018-03-01 00:50:00</th>\n",
       "      <td>21</td>\n",
       "    </tr>\n",
       "    <tr>\n",
       "      <th>2018-03-01 01:00:00</th>\n",
       "      <td>7</td>\n",
       "    </tr>\n",
       "    <tr>\n",
       "      <th>2018-03-01 01:10:00</th>\n",
       "      <td>5</td>\n",
       "    </tr>\n",
       "    <tr>\n",
       "      <th>2018-03-01 01:20:00</th>\n",
       "      <td>17</td>\n",
       "    </tr>\n",
       "    <tr>\n",
       "      <th>2018-03-01 01:30:00</th>\n",
       "      <td>12</td>\n",
       "    </tr>\n",
       "  </tbody>\n",
       "</table>\n",
       "</div>"
      ],
      "text/plain": [
       "                     num_orders\n",
       "datetime                       \n",
       "2018-03-01 00:00:00           9\n",
       "2018-03-01 00:10:00          14\n",
       "2018-03-01 00:20:00          28\n",
       "2018-03-01 00:30:00          20\n",
       "2018-03-01 00:40:00          32\n",
       "2018-03-01 00:50:00          21\n",
       "2018-03-01 01:00:00           7\n",
       "2018-03-01 01:10:00           5\n",
       "2018-03-01 01:20:00          17\n",
       "2018-03-01 01:30:00          12"
      ]
     },
     "metadata": {},
     "output_type": "display_data"
    }
   ],
   "source": [
    "# Quick look\n",
    "df_raw.info()\n",
    "display(df_raw.head(10))"
   ]
  },
  {
   "cell_type": "markdown",
   "metadata": {},
   "source": [
    "### Check for Duplicates, Monotonicity"
   ]
  },
  {
   "cell_type": "code",
   "execution_count": 4,
   "metadata": {},
   "outputs": [
    {
     "data": {
      "text/html": [
       "<div>\n",
       "<style scoped>\n",
       "    .dataframe tbody tr th:only-of-type {\n",
       "        vertical-align: middle;\n",
       "    }\n",
       "\n",
       "    .dataframe tbody tr th {\n",
       "        vertical-align: top;\n",
       "    }\n",
       "\n",
       "    .dataframe thead th {\n",
       "        text-align: right;\n",
       "    }\n",
       "</style>\n",
       "<table border=\"1\" class=\"dataframe\">\n",
       "  <thead>\n",
       "    <tr style=\"text-align: right;\">\n",
       "      <th></th>\n",
       "      <th>num_orders</th>\n",
       "    </tr>\n",
       "    <tr>\n",
       "      <th>datetime</th>\n",
       "      <th></th>\n",
       "    </tr>\n",
       "  </thead>\n",
       "  <tbody>\n",
       "  </tbody>\n",
       "</table>\n",
       "</div>"
      ],
      "text/plain": [
       "Empty DataFrame\n",
       "Columns: [num_orders]\n",
       "Index: []"
      ]
     },
     "metadata": {},
     "output_type": "display_data"
    }
   ],
   "source": [
    "# Duplicates?\n",
    "display(df_raw.loc[df_raw.index.duplicated()])"
   ]
  },
  {
   "cell_type": "code",
   "execution_count": 5,
   "metadata": {},
   "outputs": [
    {
     "name": "stdout",
     "output_type": "stream",
     "text": [
      "True\n"
     ]
    }
   ],
   "source": [
    "# Monotonicity?\n",
    "print(df_raw.index.is_monotonic)"
   ]
  },
  {
   "cell_type": "code",
   "execution_count": 6,
   "metadata": {},
   "outputs": [],
   "source": [
    "# Cleanup\n",
    "df = df_raw.copy()\n",
    "del df_raw"
   ]
  },
  {
   "cell_type": "markdown",
   "metadata": {},
   "source": [
    "<div class=\"alert alert-block alert-success\">\n",
    "<b>Reviewer's comment</b> <a class=\"tocSkip\"></a>\n",
    "\n",
    "Nice initial review.\n",
    "</div>"
   ]
  },
  {
   "cell_type": "markdown",
   "metadata": {},
   "source": [
    "### Resample to Hourly"
   ]
  },
  {
   "cell_type": "code",
   "execution_count": 7,
   "metadata": {},
   "outputs": [],
   "source": [
    "df.sort_index(inplace=True)\n",
    "df = df.resample('1H').sum()"
   ]
  },
  {
   "cell_type": "markdown",
   "metadata": {},
   "source": [
    "### Determine AR / MA Orders and Number of Lags to Include\n",
    "\n",
    "We will simply use the highest number that the AR lag analysis indicates to use when creating new lag features."
   ]
  },
  {
   "cell_type": "code",
   "execution_count": 8,
   "metadata": {},
   "outputs": [
    {
     "name": "stdout",
     "output_type": "stream",
     "text": [
      "AR ORDER: [1, 2, 3, 4, 5, 6, 7, 8, 9, 10, 11, 12, 13, 14, 15, 16, 17, 18, 19, 20, 21, 22, 23, 24]\n"
     ]
    }
   ],
   "source": [
    "# AR Order\n",
    "mod = ar_select_order(\n",
    "    endog=df, \n",
    "    maxlag=30,\n",
    "    trend='ct',\n",
    "    seasonal=True,\n",
    "    period=24,\n",
    "    missing='drop'\n",
    ")\n",
    "ar_order = mod.ar_lags\n",
    "print('AR ORDER:', ar_order)\n",
    "\n",
    "# Determine best number of lags to include\n",
    "best_lags = mod.ar_lags[-1]"
   ]
  },
  {
   "cell_type": "markdown",
   "metadata": {},
   "source": [
    "### Create Feature-based Dataframe"
   ]
  },
  {
   "cell_type": "code",
   "execution_count": 9,
   "metadata": {},
   "outputs": [],
   "source": [
    "# Use data of series to create new features\n",
    "df_expanded = df.copy()\n",
    "\n",
    "# Create features\n",
    "df_expanded['month'] = df_expanded.index.month\n",
    "df_expanded['day'] = df_expanded.index.day\n",
    "df_expanded['dayofweek'] = df_expanded.index.dayofweek\n",
    "df_expanded['hour'] = df_expanded.index.hour\n",
    "\n",
    "for lag in range(1, best_lags):\n",
    "    df_expanded[('lag_' + str(lag))] = df_expanded['num_orders'].shift(lag)\n",
    "\n",
    "df_expanded['rolling_mean'] = df_expanded['num_orders'].shift().rolling(best_lags).mean()"
   ]
  },
  {
   "cell_type": "markdown",
   "metadata": {},
   "source": [
    "<div class=\"alert alert-block alert-success\">\n",
    "<b>Reviewer's comment</b> <a class=\"tocSkip\"></a>\n",
    "\n",
    "Good job.\n",
    "</div>"
   ]
  },
  {
   "cell_type": "markdown",
   "metadata": {},
   "source": [
    "## Analysis"
   ]
  },
  {
   "cell_type": "code",
   "execution_count": 10,
   "metadata": {},
   "outputs": [],
   "source": [
    "# Preliminary seasonal analysis\n",
    "decomposed = seasonal_decompose(df)"
   ]
  },
  {
   "cell_type": "code",
   "execution_count": 11,
   "metadata": {},
   "outputs": [
    {
     "data": {
      "image/png": "[encoded data removed]",
      "text/plain": [
       "<Figure size 1000x600 with 1 Axes>"
      ]
     },
     "metadata": {},
     "output_type": "display_data"
    }
   ],
   "source": [
    "# Plot Daily Seasonality\n",
    "plt.figure(figsize=(10,6))\n",
    "decomposed.seasonal[:(3*24)].plot(ax=plt.gca())\n",
    "plt.xlabel('Day')\n",
    "plt.ylabel('Hourly Change in Orders')\n",
    "plt.title('Daily Seasonality of All Taxi Orders')\n",
    "plt.show()"
   ]
  },
  {
   "cell_type": "code",
   "execution_count": 12,
   "metadata": {
    "scrolled": false
   },
   "outputs": [
    {
     "data": {
      "image/png": "[encoded data removed]",
      "text/plain": [
       "<Figure size 1000x600 with 1 Axes>"
      ]
     },
     "metadata": {},
     "output_type": "display_data"
    }
   ],
   "source": [
    "# Plot All Data w/ Rolling Mean\n",
    "plt.figure(figsize=(10,6))\n",
    "plt.plot(df_expanded['num_orders'])\n",
    "plt.plot(df_expanded['rolling_mean'])\n",
    "plt.xlabel('Date')\n",
    "plt.ylabel('Number of Orders')\n",
    "plt.title('All Orders and Rolling Mean (Daily Window)')\n",
    "plt.show()"
   ]
  },
  {
   "cell_type": "code",
   "execution_count": 13,
   "metadata": {},
   "outputs": [
    {
     "data": {
      "image/png": "[encoded data removed]",
      "text/plain": [
       "<Figure size 500x600 with 1 Axes>"
      ]
     },
     "metadata": {},
     "output_type": "display_data"
    }
   ],
   "source": [
    "# Plot All Data w/ Rolling Mean\n",
    "by_dow = df_expanded.groupby('dayofweek')['num_orders'].sum()\n",
    "\n",
    "plt.figure(figsize=(5,6))\n",
    "plt.bar(x=range(0, 7), height=by_dow)\n",
    "plt.xlabel('Day of Week')\n",
    "plt.xticks(ticks=range(0, 7), labels=['S', 'M', 'T', 'W', 'Th', 'F', 'Sa'])\n",
    "plt.ylabel('Number of Orders')\n",
    "plt.title('Order Trends by Day of Week')\n",
    "plt.show()"
   ]
  },
  {
   "cell_type": "markdown",
   "metadata": {},
   "source": [
    "<div class=\"alert alert-block alert-success\">\n",
    "<b>Reviewer's comment</b> <a class=\"tocSkip\"></a>\n",
    "\n",
    "Nice graphs.\n",
    "</div>"
   ]
  },
  {
   "cell_type": "markdown",
   "metadata": {},
   "source": [
    "## Training"
   ]
  },
  {
   "cell_type": "markdown",
   "metadata": {},
   "source": [
    "### Baseline Linear Regression"
   ]
  },
  {
   "cell_type": "markdown",
   "metadata": {},
   "source": [
    "#### Split Into Train/Test Sets"
   ]
  },
  {
   "cell_type": "code",
   "execution_count": 14,
   "metadata": {},
   "outputs": [],
   "source": [
    "# Split data to get a forecast horizon of 10% of the total data\n",
    "features_train, features_test, target_train, target_test = train_test_split(\n",
    "    df_expanded.drop(['num_orders'], axis=1), # features\n",
    "    df_expanded['num_orders'], # target\n",
    "    shuffle=False, \n",
    "    test_size=0.1\n",
    ")\n",
    "\n",
    "# Find NaN values in features_train and remove them, changing the indices of target_train to match\n",
    "problem_indices = features_train[features_train.isna().any(axis=1)].index\n",
    "features_train = features_train.drop(problem_indices)\n",
    "target_train = target_train.drop(problem_indices)"
   ]
  },
  {
   "cell_type": "markdown",
   "metadata": {},
   "source": [
    "#### Train Linear Regression"
   ]
  },
  {
   "cell_type": "code",
   "execution_count": 15,
   "metadata": {},
   "outputs": [
    {
     "data": {
      "text/plain": [
       "LinearRegression()"
      ]
     },
     "execution_count": 15,
     "metadata": {},
     "output_type": "execute_result"
    }
   ],
   "source": [
    "# Simply baseline Linear Regression\n",
    "lr_model = LinearRegression()\n",
    "lr_model.fit(features_train, target_train)"
   ]
  },
  {
   "cell_type": "markdown",
   "metadata": {},
   "source": [
    "#### Evaluate"
   ]
  },
  {
   "cell_type": "code",
   "execution_count": 16,
   "metadata": {},
   "outputs": [],
   "source": [
    "# Evaluate Linear Regression\n",
    "lr_predict = lr_model.predict(features_test)\n",
    "lr_rmse = mean_squared_error(target_test, lr_predict)**(1/2)"
   ]
  },
  {
   "cell_type": "code",
   "execution_count": 17,
   "metadata": {},
   "outputs": [],
   "source": [
    "# Store lr predictions\n",
    "lr_predictions = np.zeros(len(target_train) + len(target_test))\n",
    "lr_predictions[:len(target_train)] = np.nan \n",
    "lr_predictions[len(target_train):] = lr_predict\n",
    "\n",
    "# Store lr actual\n",
    "lr_actual = np.zeros(len(target_train) + len(target_test))\n",
    "lr_actual[:len(target_train)] = target_train\n",
    "lr_actual[len(target_train):] = target_test"
   ]
  },
  {
   "cell_type": "markdown",
   "metadata": {},
   "source": [
    "#### Cleanup to Conserve Resources"
   ]
  },
  {
   "cell_type": "code",
   "execution_count": 18,
   "metadata": {},
   "outputs": [],
   "source": [
    "# Cleanup\n",
    "del lr_model, features_train, features_test, target_train, target_test"
   ]
  },
  {
   "cell_type": "markdown",
   "metadata": {},
   "source": [
    "### SARIMAX Model\n",
    "\n",
    "Our model is nonstationary for certain, and thus we require an ARIMA model over a simple ARMA model. We will use the SARIMAX due to the clear daily seasonality to this hourly dataset."
   ]
  },
  {
   "cell_type": "markdown",
   "metadata": {},
   "source": [
    "#### Split Into Train/Valid/Test Sets"
   ]
  },
  {
   "cell_type": "code",
   "execution_count": 19,
   "metadata": {},
   "outputs": [],
   "source": [
    "# Return train/test at ratio of 9:1\n",
    "train, test = train_test_split(df, shuffle=False, test_size=0.1)\n",
    "\n",
    "# Create tiny training set for determining best orders to prevent kernel from crashing\n",
    "majority_train, minority_train = train_test_split(train, shuffle=False, test_size=0.111111)"
   ]
  },
  {
   "cell_type": "markdown",
   "metadata": {},
   "source": [
    "#### Initialize"
   ]
  },
  {
   "cell_type": "code",
   "execution_count": 20,
   "metadata": {},
   "outputs": [],
   "source": [
    "# SARIMAX Paramaters\n",
    "sarimax_params = {\n",
    "    'enforce_stationarity': False,\n",
    "    'enforce_invertibility': False\n",
    "}\n",
    "\n",
    "# Ranges for p, d, q and seasonal P, D, Q\n",
    "p_values = range(0, 3)\n",
    "d_values = range(0, 2)\n",
    "q_values = range(0, 3)\n",
    "P_values = range(0, 2)\n",
    "D_values = range(0, 2)\n",
    "Q_values = range(0, 2)\n",
    "s = 24  # Daily seasonality"
   ]
  },
  {
   "cell_type": "code",
   "execution_count": 21,
   "metadata": {},
   "outputs": [],
   "source": [
    "# Function to get best SARIMAX order hyperparams\n",
    "def get_best_orders(train, p_range, d_range, q_range, P_range, D_range, Q_range, s):\n",
    "    best_aic = 999999\n",
    "    best_order = None\n",
    "    best_seasonal_order = None\n",
    "\n",
    "    for p in p_range:\n",
    "        for d in d_values:\n",
    "            for q in d_range:\n",
    "                for P in P_values:\n",
    "                    for D in D_values:\n",
    "                        for Q in Q_values:\n",
    "                            try:\n",
    "                                sarimax_model = SARIMAX(\n",
    "                                    minority_train, \n",
    "                                    order=(p, d, q), \n",
    "                                    seasonal_order=(P, D, Q, s),\n",
    "                                    **sarimax_params\n",
    "                                )\n",
    "                                sarimax_model_fit = sarimax_model.fit(disp=False)\n",
    "                                if sarimax_model_fit.aic < best_aic:\n",
    "                                    best_aic = sarimax_model_fit.aic\n",
    "                                    best_order = (p, d, q)\n",
    "                                    best_seasonal_order = (P, D, Q, s)\n",
    "                            except:\n",
    "                                continue\n",
    "    return best_order, best_seasonal_order"
   ]
  },
  {
   "cell_type": "markdown",
   "metadata": {},
   "source": [
    "#### Train SARIMAX"
   ]
  },
  {
   "cell_type": "code",
   "execution_count": 22,
   "metadata": {
    "scrolled": true
   },
   "outputs": [
    {
     "name": "stderr",
     "output_type": "stream",
     "text": [
      "/opt/conda/envs/python3/lib/python3.9/site-packages/statsmodels/base/model.py:604: ConvergenceWarning: Maximum Likelihood optimization failed to converge. Check mle_retvals\n",
      "  warnings.warn(\"Maximum Likelihood optimization failed to \"\n",
      "/opt/conda/envs/python3/lib/python3.9/site-packages/statsmodels/base/model.py:604: ConvergenceWarning: Maximum Likelihood optimization failed to converge. Check mle_retvals\n",
      "  warnings.warn(\"Maximum Likelihood optimization failed to \"\n",
      "/opt/conda/envs/python3/lib/python3.9/site-packages/statsmodels/base/model.py:604: ConvergenceWarning: Maximum Likelihood optimization failed to converge. Check mle_retvals\n",
      "  warnings.warn(\"Maximum Likelihood optimization failed to \"\n"
     ]
    }
   ],
   "source": [
    "best_order, best_seasonal_order = get_best_orders(train, p_values, d_values, q_values, P_values, D_values, Q_values, s)"
   ]
  },
  {
   "cell_type": "code",
   "execution_count": 23,
   "metadata": {},
   "outputs": [],
   "source": [
    "# Train the best SARIMA model and predict\n",
    "sarimax_model = SARIMAX(\n",
    "    train, \n",
    "    order = best_order, \n",
    "    seasonal_order = best_seasonal_order,\n",
    "    **sarimax_params\n",
    ")\n",
    "sarimax_model = sarimax_model.fit(disp=False)"
   ]
  },
  {
   "cell_type": "markdown",
   "metadata": {},
   "source": [
    "#### Evaluate"
   ]
  },
  {
   "cell_type": "code",
   "execution_count": 24,
   "metadata": {},
   "outputs": [],
   "source": [
    "sarimax_pred = sarimax_model.forecast(steps=len(test))\n",
    "sarimax_rmse = mean_squared_error(test, sarimax_pred)**(1/2)"
   ]
  },
  {
   "cell_type": "code",
   "execution_count": 25,
   "metadata": {},
   "outputs": [],
   "source": [
    "# Store arima predictions\n",
    "sarimax_predictions = np.zeros(len(df))\n",
    "sarimax_predictions[:len(train)] = np.nan \n",
    "sarimax_predictions[len(train):] = sarimax_pred\n",
    "\n",
    "# Store arima actual\n",
    "sarimax_actual = np.array(df['num_orders'])"
   ]
  },
  {
   "cell_type": "markdown",
   "metadata": {},
   "source": [
    "#### Cleanup to Conserve Resources"
   ]
  },
  {
   "cell_type": "code",
   "execution_count": 27,
   "metadata": {},
   "outputs": [
    {
     "ename": "NameError",
     "evalue": "name 'train' is not defined",
     "output_type": "error",
     "traceback": [
      "\u001b[0;31m---------------------------------------------------------------------------\u001b[0m",
      "\u001b[0;31mNameError\u001b[0m                                 Traceback (most recent call last)",
      "Cell \u001b[0;32mIn[27], line 2\u001b[0m\n\u001b[1;32m      1\u001b[0m \u001b[38;5;66;03m# Cleanup\u001b[39;00m\n\u001b[0;32m----> 2\u001b[0m \u001b[38;5;28;01mdel\u001b[39;00m train, train_whole, test, majority_train, minority_train\n",
      "\u001b[0;31mNameError\u001b[0m: name 'train' is not defined"
     ]
    }
   ],
   "source": [
    "# Cleanup\n",
    "del train, train_whole, test, majority_train, minority_train"
   ]
  },
  {
   "cell_type": "markdown",
   "metadata": {},
   "source": [
    "### RandomForest Regression"
   ]
  },
  {
   "cell_type": "markdown",
   "metadata": {},
   "source": [
    "#### Split Into Train/Valid/Test Sets"
   ]
  },
  {
   "cell_type": "code",
   "execution_count": 28,
   "metadata": {},
   "outputs": [],
   "source": [
    "# Split data for hyperparameter tuning of train/valid/test at 9:1\n",
    "features_train, features_test, target_train, target_test = train_test_split(\n",
    "    df_expanded.drop(['num_orders'], axis=1), # features\n",
    "    df_expanded['num_orders'], # target\n",
    "    shuffle=False, \n",
    "    test_size=0.1\n",
    ")\n",
    "\n",
    "# Find NaN values in features_train and remove them, changing the indices of target_train to match\n",
    "problem_indices = features_train[features_train.isna().any(axis=1)].index\n",
    "features_train = features_train.drop(problem_indices)\n",
    "target_train = target_train.drop(problem_indices)"
   ]
  },
  {
   "cell_type": "markdown",
   "metadata": {},
   "source": [
    "#### Initialize"
   ]
  },
  {
   "cell_type": "code",
   "execution_count": 29,
   "metadata": {},
   "outputs": [],
   "source": [
    "parameter_grid = {\n",
    "    'n_estimators': [6, 10],\n",
    "    'max_depth': [4, 6, 8],\n",
    "    'min_samples_split': [4, 6],\n",
    "    'min_samples_leaf': [4, 6]\n",
    "}\n",
    "forest = RandomForestRegressor(\n",
    "    random_state=12345, n_jobs = -1\n",
    ")\n",
    "cross_validator = KFold(\n",
    "    n_splits=4, shuffle=True, random_state=12345\n",
    ")\n",
    "forest_GSCV = GridSearchCV(\n",
    "    estimator=forest, param_grid=parameter_grid, scoring = 'neg_root_mean_squared_error', cv = cross_validator, verbose=3\n",
    ")"
   ]
  },
  {
   "cell_type": "markdown",
   "metadata": {},
   "source": [
    "#### Find Optimal Hyperparams and RF Model"
   ]
  },
  {
   "cell_type": "code",
   "execution_count": 30,
   "metadata": {
    "scrolled": true
   },
   "outputs": [
    {
     "name": "stdout",
     "output_type": "stream",
     "text": [
      "Fitting 4 folds for each of 24 candidates, totalling 96 fits\n",
      "[CV 1/4] END max_depth=4, min_samples_leaf=4, min_samples_split=4, n_estimators=6; total time=   0.1s\n",
      "[CV 2/4] END max_depth=4, min_samples_leaf=4, min_samples_split=4, n_estimators=6; total time=   0.1s\n",
      "[CV 3/4] END max_depth=4, min_samples_leaf=4, min_samples_split=4, n_estimators=6; total time=   0.1s\n",
      "[CV 4/4] END max_depth=4, min_samples_leaf=4, min_samples_split=4, n_estimators=6; total time=   0.1s\n",
      "[CV 1/4] END max_depth=4, min_samples_leaf=4, min_samples_split=4, n_estimators=10; total time=   0.2s\n",
      "[CV 2/4] END max_depth=4, min_samples_leaf=4, min_samples_split=4, n_estimators=10; total time=   0.2s\n",
      "[CV 3/4] END max_depth=4, min_samples_leaf=4, min_samples_split=4, n_estimators=10; total time=   0.2s\n",
      "[CV 4/4] END max_depth=4, min_samples_leaf=4, min_samples_split=4, n_estimators=10; total time=   0.2s\n",
      "[CV 1/4] END max_depth=4, min_samples_leaf=4, min_samples_split=6, n_estimators=6; total time=   0.1s\n",
      "[CV 2/4] END max_depth=4, min_samples_leaf=4, min_samples_split=6, n_estimators=6; total time=   0.1s\n",
      "[CV 3/4] END max_depth=4, min_samples_leaf=4, min_samples_split=6, n_estimators=6; total time=   0.1s\n",
      "[CV 4/4] END max_depth=4, min_samples_leaf=4, min_samples_split=6, n_estimators=6; total time=   0.1s\n",
      "[CV 1/4] END max_depth=4, min_samples_leaf=4, min_samples_split=6, n_estimators=10; total time=   0.2s\n",
      "[CV 2/4] END max_depth=4, min_samples_leaf=4, min_samples_split=6, n_estimators=10; total time=   0.2s\n",
      "[CV 3/4] END max_depth=4, min_samples_leaf=4, min_samples_split=6, n_estimators=10; total time=   0.2s\n",
      "[CV 4/4] END max_depth=4, min_samples_leaf=4, min_samples_split=6, n_estimators=10; total time=   0.2s\n",
      "[CV 1/4] END max_depth=4, min_samples_leaf=6, min_samples_split=4, n_estimators=6; total time=   0.1s\n",
      "[CV 2/4] END max_depth=4, min_samples_leaf=6, min_samples_split=4, n_estimators=6; total time=   0.1s\n",
      "[CV 3/4] END max_depth=4, min_samples_leaf=6, min_samples_split=4, n_estimators=6; total time=   0.1s\n",
      "[CV 4/4] END max_depth=4, min_samples_leaf=6, min_samples_split=4, n_estimators=6; total time=   0.1s\n",
      "[CV 1/4] END max_depth=4, min_samples_leaf=6, min_samples_split=4, n_estimators=10; total time=   0.2s\n",
      "[CV 2/4] END max_depth=4, min_samples_leaf=6, min_samples_split=4, n_estimators=10; total time=   0.2s\n",
      "[CV 3/4] END max_depth=4, min_samples_leaf=6, min_samples_split=4, n_estimators=10; total time=   0.2s\n",
      "[CV 4/4] END max_depth=4, min_samples_leaf=6, min_samples_split=4, n_estimators=10; total time=   0.2s\n",
      "[CV 1/4] END max_depth=4, min_samples_leaf=6, min_samples_split=6, n_estimators=6; total time=   0.1s\n",
      "[CV 2/4] END max_depth=4, min_samples_leaf=6, min_samples_split=6, n_estimators=6; total time=   0.1s\n",
      "[CV 3/4] END max_depth=4, min_samples_leaf=6, min_samples_split=6, n_estimators=6; total time=   0.1s\n",
      "[CV 4/4] END max_depth=4, min_samples_leaf=6, min_samples_split=6, n_estimators=6; total time=   0.1s\n",
      "[CV 1/4] END max_depth=4, min_samples_leaf=6, min_samples_split=6, n_estimators=10; total time=   0.2s\n",
      "[CV 2/4] END max_depth=4, min_samples_leaf=6, min_samples_split=6, n_estimators=10; total time=   0.2s\n",
      "[CV 3/4] END max_depth=4, min_samples_leaf=6, min_samples_split=6, n_estimators=10; total time=   0.2s\n",
      "[CV 4/4] END max_depth=4, min_samples_leaf=6, min_samples_split=6, n_estimators=10; total time=   0.2s\n",
      "[CV 1/4] END max_depth=6, min_samples_leaf=4, min_samples_split=4, n_estimators=6; total time=   0.2s\n",
      "[CV 2/4] END max_depth=6, min_samples_leaf=4, min_samples_split=4, n_estimators=6; total time=   0.2s\n",
      "[CV 3/4] END max_depth=6, min_samples_leaf=4, min_samples_split=4, n_estimators=6; total time=   0.2s\n",
      "[CV 4/4] END max_depth=6, min_samples_leaf=4, min_samples_split=4, n_estimators=6; total time=   0.2s\n",
      "[CV 1/4] END max_depth=6, min_samples_leaf=4, min_samples_split=4, n_estimators=10; total time=   0.3s\n",
      "[CV 2/4] END max_depth=6, min_samples_leaf=4, min_samples_split=4, n_estimators=10; total time=   0.3s\n",
      "[CV 3/4] END max_depth=6, min_samples_leaf=4, min_samples_split=4, n_estimators=10; total time=   0.3s\n",
      "[CV 4/4] END max_depth=6, min_samples_leaf=4, min_samples_split=4, n_estimators=10; total time=   0.3s\n",
      "[CV 1/4] END max_depth=6, min_samples_leaf=4, min_samples_split=6, n_estimators=6; total time=   0.2s\n",
      "[CV 2/4] END max_depth=6, min_samples_leaf=4, min_samples_split=6, n_estimators=6; total time=   0.2s\n",
      "[CV 3/4] END max_depth=6, min_samples_leaf=4, min_samples_split=6, n_estimators=6; total time=   0.2s\n",
      "[CV 4/4] END max_depth=6, min_samples_leaf=4, min_samples_split=6, n_estimators=6; total time=   0.2s\n",
      "[CV 1/4] END max_depth=6, min_samples_leaf=4, min_samples_split=6, n_estimators=10; total time=   0.3s\n",
      "[CV 2/4] END max_depth=6, min_samples_leaf=4, min_samples_split=6, n_estimators=10; total time=   0.3s\n",
      "[CV 3/4] END max_depth=6, min_samples_leaf=4, min_samples_split=6, n_estimators=10; total time=   0.3s\n",
      "[CV 4/4] END max_depth=6, min_samples_leaf=4, min_samples_split=6, n_estimators=10; total time=   0.3s\n",
      "[CV 1/4] END max_depth=6, min_samples_leaf=6, min_samples_split=4, n_estimators=6; total time=   0.2s\n",
      "[CV 2/4] END max_depth=6, min_samples_leaf=6, min_samples_split=4, n_estimators=6; total time=   0.2s\n",
      "[CV 3/4] END max_depth=6, min_samples_leaf=6, min_samples_split=4, n_estimators=6; total time=   0.2s\n",
      "[CV 4/4] END max_depth=6, min_samples_leaf=6, min_samples_split=4, n_estimators=6; total time=   0.2s\n",
      "[CV 1/4] END max_depth=6, min_samples_leaf=6, min_samples_split=4, n_estimators=10; total time=   0.3s\n",
      "[CV 2/4] END max_depth=6, min_samples_leaf=6, min_samples_split=4, n_estimators=10; total time=   0.3s\n",
      "[CV 3/4] END max_depth=6, min_samples_leaf=6, min_samples_split=4, n_estimators=10; total time=   0.3s\n",
      "[CV 4/4] END max_depth=6, min_samples_leaf=6, min_samples_split=4, n_estimators=10; total time=   0.3s\n",
      "[CV 1/4] END max_depth=6, min_samples_leaf=6, min_samples_split=6, n_estimators=6; total time=   0.2s\n",
      "[CV 2/4] END max_depth=6, min_samples_leaf=6, min_samples_split=6, n_estimators=6; total time=   0.2s\n",
      "[CV 3/4] END max_depth=6, min_samples_leaf=6, min_samples_split=6, n_estimators=6; total time=   0.2s\n",
      "[CV 4/4] END max_depth=6, min_samples_leaf=6, min_samples_split=6, n_estimators=6; total time=   0.2s\n",
      "[CV 1/4] END max_depth=6, min_samples_leaf=6, min_samples_split=6, n_estimators=10; total time=   0.3s\n",
      "[CV 2/4] END max_depth=6, min_samples_leaf=6, min_samples_split=6, n_estimators=10; total time=   0.3s\n",
      "[CV 3/4] END max_depth=6, min_samples_leaf=6, min_samples_split=6, n_estimators=10; total time=   0.3s\n",
      "[CV 4/4] END max_depth=6, min_samples_leaf=6, min_samples_split=6, n_estimators=10; total time=   0.2s\n",
      "[CV 1/4] END max_depth=8, min_samples_leaf=4, min_samples_split=4, n_estimators=6; total time=   0.2s\n",
      "[CV 2/4] END max_depth=8, min_samples_leaf=4, min_samples_split=4, n_estimators=6; total time=   0.2s\n",
      "[CV 3/4] END max_depth=8, min_samples_leaf=4, min_samples_split=4, n_estimators=6; total time=   0.2s\n",
      "[CV 4/4] END max_depth=8, min_samples_leaf=4, min_samples_split=4, n_estimators=6; total time=   0.2s\n",
      "[CV 1/4] END max_depth=8, min_samples_leaf=4, min_samples_split=4, n_estimators=10; total time=   0.3s\n",
      "[CV 2/4] END max_depth=8, min_samples_leaf=4, min_samples_split=4, n_estimators=10; total time=   0.3s\n",
      "[CV 3/4] END max_depth=8, min_samples_leaf=4, min_samples_split=4, n_estimators=10; total time=   0.3s\n",
      "[CV 4/4] END max_depth=8, min_samples_leaf=4, min_samples_split=4, n_estimators=10; total time=   0.3s\n",
      "[CV 1/4] END max_depth=8, min_samples_leaf=4, min_samples_split=6, n_estimators=6; total time=   0.2s\n",
      "[CV 2/4] END max_depth=8, min_samples_leaf=4, min_samples_split=6, n_estimators=6; total time=   0.2s\n",
      "[CV 3/4] END max_depth=8, min_samples_leaf=4, min_samples_split=6, n_estimators=6; total time=   0.2s\n",
      "[CV 4/4] END max_depth=8, min_samples_leaf=4, min_samples_split=6, n_estimators=6; total time=   0.2s\n",
      "[CV 1/4] END max_depth=8, min_samples_leaf=4, min_samples_split=6, n_estimators=10; total time=   0.3s\n",
      "[CV 2/4] END max_depth=8, min_samples_leaf=4, min_samples_split=6, n_estimators=10; total time=   0.3s\n",
      "[CV 3/4] END max_depth=8, min_samples_leaf=4, min_samples_split=6, n_estimators=10; total time=   0.3s\n",
      "[CV 4/4] END max_depth=8, min_samples_leaf=4, min_samples_split=6, n_estimators=10; total time=   0.3s\n",
      "[CV 1/4] END max_depth=8, min_samples_leaf=6, min_samples_split=4, n_estimators=6; total time=   0.2s\n"
     ]
    },
    {
     "name": "stdout",
     "output_type": "stream",
     "text": [
      "[CV 2/4] END max_depth=8, min_samples_leaf=6, min_samples_split=4, n_estimators=6; total time=   0.2s\n",
      "[CV 3/4] END max_depth=8, min_samples_leaf=6, min_samples_split=4, n_estimators=6; total time=   0.2s\n",
      "[CV 4/4] END max_depth=8, min_samples_leaf=6, min_samples_split=4, n_estimators=6; total time=   0.2s\n",
      "[CV 1/4] END max_depth=8, min_samples_leaf=6, min_samples_split=4, n_estimators=10; total time=   0.3s\n",
      "[CV 2/4] END max_depth=8, min_samples_leaf=6, min_samples_split=4, n_estimators=10; total time=   0.3s\n",
      "[CV 3/4] END max_depth=8, min_samples_leaf=6, min_samples_split=4, n_estimators=10; total time=   0.3s\n",
      "[CV 4/4] END max_depth=8, min_samples_leaf=6, min_samples_split=4, n_estimators=10; total time=   0.3s\n",
      "[CV 1/4] END max_depth=8, min_samples_leaf=6, min_samples_split=6, n_estimators=6; total time=   0.2s\n",
      "[CV 2/4] END max_depth=8, min_samples_leaf=6, min_samples_split=6, n_estimators=6; total time=   0.2s\n",
      "[CV 3/4] END max_depth=8, min_samples_leaf=6, min_samples_split=6, n_estimators=6; total time=   0.2s\n",
      "[CV 4/4] END max_depth=8, min_samples_leaf=6, min_samples_split=6, n_estimators=6; total time=   0.2s\n",
      "[CV 1/4] END max_depth=8, min_samples_leaf=6, min_samples_split=6, n_estimators=10; total time=   0.3s\n",
      "[CV 2/4] END max_depth=8, min_samples_leaf=6, min_samples_split=6, n_estimators=10; total time=   0.3s\n",
      "[CV 3/4] END max_depth=8, min_samples_leaf=6, min_samples_split=6, n_estimators=10; total time=   0.3s\n",
      "[CV 4/4] END max_depth=8, min_samples_leaf=6, min_samples_split=6, n_estimators=10; total time=   0.3s\n"
     ]
    },
    {
     "data": {
      "text/plain": [
       "GridSearchCV(cv=KFold(n_splits=4, random_state=12345, shuffle=True),\n",
       "             estimator=RandomForestRegressor(n_jobs=-1, random_state=12345),\n",
       "             param_grid={'max_depth': [4, 6, 8], 'min_samples_leaf': [4, 6],\n",
       "                         'min_samples_split': [4, 6], 'n_estimators': [6, 10]},\n",
       "             scoring='neg_root_mean_squared_error', verbose=3)"
      ]
     },
     "execution_count": 30,
     "metadata": {},
     "output_type": "execute_result"
    }
   ],
   "source": [
    "# Random Forest Grid Search\n",
    "forest_GSCV.fit(features_train, target_train)"
   ]
  },
  {
   "cell_type": "markdown",
   "metadata": {},
   "source": [
    "#### Evaluate"
   ]
  },
  {
   "cell_type": "code",
   "execution_count": 31,
   "metadata": {},
   "outputs": [],
   "source": [
    "rf_model = RandomForestRegressor(\n",
    "    random_state=12345, n_jobs=-1, **forest_GSCV.best_params_\n",
    ")\n",
    "rf_model.fit(features_train, target_train)\n",
    "rf_predict = rf_model.predict(features_test)\n",
    "rf_rmse = mean_squared_error(target_test, rf_predict)**(1/2)"
   ]
  },
  {
   "cell_type": "code",
   "execution_count": 32,
   "metadata": {},
   "outputs": [],
   "source": [
    "# Store rf predictions\n",
    "rf_predictions = np.zeros(len(target_train) + len(target_test))\n",
    "rf_predictions[:len(target_train)] = np.nan \n",
    "rf_predictions[len(target_train):] = rf_predict\n",
    "\n",
    "# Store rf actual\n",
    "rf_actual = np.zeros(len(target_train) + len(target_test))\n",
    "rf_actual[:len(target_train)] = target_train\n",
    "rf_actual[len(target_train):] = target_test"
   ]
  },
  {
   "cell_type": "markdown",
   "metadata": {},
   "source": [
    "#### Cleanup to Conserve Resources"
   ]
  },
  {
   "cell_type": "code",
   "execution_count": 33,
   "metadata": {},
   "outputs": [],
   "source": [
    "del forest_GSCV, cross_validator, rf_model, forest, problem_indices, features_train, features_test, target_train, target_test"
   ]
  },
  {
   "cell_type": "markdown",
   "metadata": {},
   "source": [
    "<div class=\"alert alert-block alert-success\">\n",
    "<b>Reviewer's comment</b> <a class=\"tocSkip\"></a>\n",
    "\n",
    "Very good models training!\n",
    "</div>"
   ]
  },
  {
   "cell_type": "markdown",
   "metadata": {},
   "source": [
    "## Testing"
   ]
  },
  {
   "cell_type": "markdown",
   "metadata": {},
   "source": [
    "### Evaluate Baseline (Linear Regression)"
   ]
  },
  {
   "cell_type": "code",
   "execution_count": 34,
   "metadata": {},
   "outputs": [
    {
     "name": "stdout",
     "output_type": "stream",
     "text": [
      "Linear Regression Model RMSE:\n",
      "45.81094888906941\n"
     ]
    }
   ],
   "source": [
    "print('Linear Regression Model RMSE:')\n",
    "print(lr_rmse)"
   ]
  },
  {
   "cell_type": "code",
   "execution_count": 35,
   "metadata": {},
   "outputs": [
    {
     "data": {
      "image/png": "[encoded data removed]",
      "text/plain": [
       "<Figure size 1200x600 with 1 Axes>"
      ]
     },
     "metadata": {},
     "output_type": "display_data"
    }
   ],
   "source": [
    "# Plottable dataframe\n",
    "lr_plot_data = pd.DataFrame(\n",
    "    {\n",
    "        'actual_orders': lr_actual,\n",
    "        'predicted_orders': lr_predictions\n",
    "    }\n",
    ")\n",
    "\n",
    "# Plot\n",
    "fig = plt.figure(figsize=(12,6))\n",
    "lr_plot_data[3500:].plot(ax=plt.gca())\n",
    "plt.xlabel('Hourly Entry')\n",
    "plt.ylabel('Orders')\n",
    "plt.title('LR Model Prediction: Forecast Window and Preceding Subset of Data')\n",
    "plt.show()"
   ]
  },
  {
   "cell_type": "markdown",
   "metadata": {},
   "source": [
    "### Evaluate Time Series Model (SARIMAX)"
   ]
  },
  {
   "cell_type": "code",
   "execution_count": 36,
   "metadata": {},
   "outputs": [
    {
     "name": "stdout",
     "output_type": "stream",
     "text": [
      "SARIMAX Model RMSE:\n",
      "45.16813688203869\n"
     ]
    }
   ],
   "source": [
    "print('SARIMAX Model RMSE:')\n",
    "print(sarimax_rmse)"
   ]
  },
  {
   "cell_type": "code",
   "execution_count": 37,
   "metadata": {},
   "outputs": [
    {
     "data": {
      "image/png": "[encoded data removed]",
      "text/plain": [
       "<Figure size 1200x600 with 1 Axes>"
      ]
     },
     "metadata": {},
     "output_type": "display_data"
    }
   ],
   "source": [
    "# Plottable dataframe\n",
    "sarimax_plot_data = pd.DataFrame(\n",
    "    {\n",
    "        'actual_orders': sarimax_actual,\n",
    "        'predicted_orders': sarimax_predictions\n",
    "    }\n",
    ")\n",
    "\n",
    "# Plot\n",
    "fig = plt.figure(figsize=(12,6))\n",
    "sarimax_plot_data[3500:].plot(ax=plt.gca())\n",
    "plt.xlabel('Hourly Entry')\n",
    "plt.ylabel('Orders')\n",
    "plt.title('SARIMAX Model Prediction: Forecast Window and Preceding Subset of Data')\n",
    "plt.show()"
   ]
  },
  {
   "cell_type": "markdown",
   "metadata": {},
   "source": [
    "### Evaluate Random Forest Regression"
   ]
  },
  {
   "cell_type": "code",
   "execution_count": 38,
   "metadata": {},
   "outputs": [
    {
     "name": "stdout",
     "output_type": "stream",
     "text": [
      "Random Forest Regression Model RMSE:\n",
      "46.21399886662175\n"
     ]
    }
   ],
   "source": [
    "print('Random Forest Regression Model RMSE:')\n",
    "print(rf_rmse)"
   ]
  },
  {
   "cell_type": "code",
   "execution_count": 39,
   "metadata": {
    "scrolled": true
   },
   "outputs": [
    {
     "data": {
      "image/png": "[encoded data removed]",
      "text/plain": [
       "<Figure size 1200x600 with 1 Axes>"
      ]
     },
     "metadata": {},
     "output_type": "display_data"
    }
   ],
   "source": [
    "# Plottable dataframe\n",
    "rf_plot_data = pd.DataFrame(\n",
    "    {\n",
    "        'actual_orders': rf_actual,\n",
    "        'predicted_orders': rf_predictions\n",
    "    }\n",
    ")\n",
    "\n",
    "# Plot\n",
    "fig = plt.figure(figsize=(12,6))\n",
    "rf_plot_data[3500:].plot(ax=plt.gca())\n",
    "plt.xlabel('Hourly Entry')\n",
    "plt.ylabel('Orders')\n",
    "plt.title('RF Model Prediction: Forecast Window and Preceding Subset of Data')\n",
    "plt.show()"
   ]
  },
  {
   "cell_type": "markdown",
   "metadata": {},
   "source": [
    "#### Conclusion\n",
    "\n",
    "When tuning the Linear Regression and Random Forest models, we used an expanded dataframe that took into account datetime features and 24 lag-value-adjusted features. The SARIMAX model relied on the simple time series of the 'num_orders' column. For all models our prediction window was the final 10% of the dataset, or the final 18 days of the set. The above graphs plot the actual values against the model predictions for this final window.\n",
    "\n",
    "All three models had comparable RMSE values around 45. The lowest was SARIMAX at 45.168137. This indicates that accounting more heavily on 24-hour seasonality is an advantage.\n",
    "\n",
    "The Linear Regression and Random Forest models were quick to train and performed well despite not taking AR or MA modeling into account."
   ]
  },
  {
   "cell_type": "markdown",
   "metadata": {},
   "source": [
    "<div class=\"alert alert-block alert-success\">\n",
    "<b>Reviewer's comment</b> <a class=\"tocSkip\"></a>\n",
    "\n",
    "We gor RMSE < 48! Excellent!\n",
    "</div>"
   ]
  },
  {
   "cell_type": "markdown",
   "metadata": {},
   "source": [
    "<div class=\"alert alert-block alert-success\">\n",
    "<b>Overall reviewer's comment</b> <a class=\"tocSkip\"></a>\n",
    "\n",
    "Thank you for sending your project. You've done a really good job on it!\n",
    "    \n",
    "Especially impressed:\n",
    "\n",
    "- deep detailed conclusions\n",
    "    \n",
    "- good graphs\n",
    "    \n",
    "- high code level\n",
    "\n",
    "- good project structure\n",
    "    \n",
    "    \n",
    "Thank you for in-depth analysis and logical conclusions!\n",
    "    \n",
    "I'm glad to say that your project has been accepted. Keep up the good work and good luck on the next sprint!\n",
    "</div>"
   ]
  },
  {
   "cell_type": "markdown",
   "metadata": {},
   "source": [
    "# Review checklist"
   ]
  },
  {
   "cell_type": "markdown",
   "metadata": {},
   "source": [
    "- [x]  Jupyter Notebook is open\n",
    "- [ ]  The code is error-free\n",
    "- [ ]  The cells with the code have been arranged in order of execution\n",
    "- [ ]  The data has been downloaded and prepared\n",
    "- [ ]  The data has been analyzed\n",
    "- [ ]  The model has been trained and hyperparameters have been selected\n",
    "- [ ]  The models have been evaluated. Conclusion has been provided\n",
    "- [ ] *RMSE* for the test set is not more than 48"
   ]
  }
 ],
 "metadata": {
  "ExecuteTimeLog": [
   {
    "duration": 4978,
    "start_time": "2024-08-11T23:02:58.965Z"
   },
   {
    "duration": 58,
    "start_time": "2024-08-11T23:03:03.946Z"
   },
   {
    "duration": 19,
    "start_time": "2024-08-11T23:04:19.468Z"
   },
   {
    "duration": 33,
    "start_time": "2024-08-11T23:09:48.514Z"
   },
   {
    "duration": 18,
    "start_time": "2024-08-11T23:09:50.147Z"
   },
   {
    "duration": 15,
    "start_time": "2024-08-11T23:09:55.179Z"
   },
   {
    "duration": 10,
    "start_time": "2024-08-11T23:10:44.529Z"
   },
   {
    "duration": 6,
    "start_time": "2024-08-11T23:11:00.398Z"
   },
   {
    "duration": 9,
    "start_time": "2024-08-11T23:11:14.585Z"
   },
   {
    "duration": 5,
    "start_time": "2024-08-11T23:15:58.980Z"
   },
   {
    "duration": 17,
    "start_time": "2024-08-11T23:16:58.854Z"
   },
   {
    "duration": 31,
    "start_time": "2024-08-11T23:18:28.460Z"
   },
   {
    "duration": 5,
    "start_time": "2024-08-11T23:19:14.206Z"
   },
   {
    "duration": 518,
    "start_time": "2024-08-11T23:19:16.504Z"
   },
   {
    "duration": 1425,
    "start_time": "2024-08-11T23:20:07.905Z"
   },
   {
    "duration": 33,
    "start_time": "2024-08-11T23:20:09.333Z"
   },
   {
    "duration": 35,
    "start_time": "2024-08-11T23:20:09.369Z"
   },
   {
    "duration": 9,
    "start_time": "2024-08-11T23:20:09.408Z"
   },
   {
    "duration": 4,
    "start_time": "2024-08-11T23:20:09.420Z"
   },
   {
    "duration": 4,
    "start_time": "2024-08-11T23:20:09.428Z"
   },
   {
    "duration": 629,
    "start_time": "2024-08-11T23:20:09.435Z"
   },
   {
    "duration": 11,
    "start_time": "2024-08-11T23:24:05.800Z"
   },
   {
    "duration": 1384,
    "start_time": "2024-08-11T23:24:14.864Z"
   },
   {
    "duration": 40,
    "start_time": "2024-08-11T23:24:16.251Z"
   },
   {
    "duration": 22,
    "start_time": "2024-08-11T23:24:16.294Z"
   },
   {
    "duration": 9,
    "start_time": "2024-08-11T23:24:16.320Z"
   },
   {
    "duration": 5,
    "start_time": "2024-08-11T23:24:16.332Z"
   },
   {
    "duration": 5,
    "start_time": "2024-08-11T23:24:16.340Z"
   },
   {
    "duration": 53,
    "start_time": "2024-08-11T23:24:16.347Z"
   },
   {
    "duration": 11,
    "start_time": "2024-08-11T23:24:16.403Z"
   },
   {
    "duration": 509,
    "start_time": "2024-08-11T23:25:16.082Z"
   },
   {
    "duration": 424,
    "start_time": "2024-08-11T23:25:36.262Z"
   },
   {
    "duration": 232,
    "start_time": "2024-08-11T23:25:43.397Z"
   },
   {
    "duration": 245,
    "start_time": "2024-08-11T23:26:01.242Z"
   },
   {
    "duration": 248,
    "start_time": "2024-08-11T23:26:19.815Z"
   },
   {
    "duration": 261,
    "start_time": "2024-08-11T23:26:36.282Z"
   },
   {
    "duration": 271,
    "start_time": "2024-08-11T23:28:17.878Z"
   },
   {
    "duration": 328,
    "start_time": "2024-08-11T23:28:25.056Z"
   },
   {
    "duration": 256,
    "start_time": "2024-08-11T23:30:48.888Z"
   },
   {
    "duration": 274,
    "start_time": "2024-08-11T23:32:11.882Z"
   },
   {
    "duration": 244,
    "start_time": "2024-08-11T23:32:20.082Z"
   },
   {
    "duration": 252,
    "start_time": "2024-08-11T23:32:42.283Z"
   },
   {
    "duration": 225,
    "start_time": "2024-08-11T23:49:07.648Z"
   },
   {
    "duration": 247,
    "start_time": "2024-08-11T23:49:19.861Z"
   },
   {
    "duration": 277,
    "start_time": "2024-08-11T23:49:28.476Z"
   },
   {
    "duration": 259,
    "start_time": "2024-08-11T23:49:41.481Z"
   },
   {
    "duration": 34,
    "start_time": "2024-08-11T23:56:14.774Z"
   },
   {
    "duration": 7,
    "start_time": "2024-08-11T23:56:19.996Z"
   },
   {
    "duration": 30,
    "start_time": "2024-08-11T23:56:27.462Z"
   },
   {
    "duration": 763,
    "start_time": "2024-08-11T23:56:31.429Z"
   },
   {
    "duration": 216,
    "start_time": "2024-08-11T23:56:42.205Z"
   },
   {
    "duration": 301,
    "start_time": "2024-08-11T23:58:32.284Z"
   },
   {
    "duration": 227,
    "start_time": "2024-08-12T00:01:36.021Z"
   },
   {
    "duration": 10,
    "start_time": "2024-08-12T00:02:58.107Z"
   },
   {
    "duration": 497,
    "start_time": "2024-08-12T00:03:08.209Z"
   },
   {
    "duration": 7,
    "start_time": "2024-08-12T00:03:17.328Z"
   },
   {
    "duration": 228,
    "start_time": "2024-08-12T00:03:42.720Z"
   },
   {
    "duration": 33,
    "start_time": "2024-08-12T00:09:21.247Z"
   },
   {
    "duration": 34,
    "start_time": "2024-08-12T00:09:30.656Z"
   },
   {
    "duration": 195,
    "start_time": "2024-08-12T00:12:06.495Z"
   },
   {
    "duration": 37,
    "start_time": "2024-08-12T00:16:43.160Z"
   },
   {
    "duration": 14,
    "start_time": "2024-08-12T00:21:52.031Z"
   },
   {
    "duration": 23,
    "start_time": "2024-08-12T00:29:41.734Z"
   },
   {
    "duration": 15,
    "start_time": "2024-08-12T00:29:47.736Z"
   },
   {
    "duration": 21,
    "start_time": "2024-08-12T00:31:57.222Z"
   },
   {
    "duration": 5,
    "start_time": "2024-08-12T00:31:58.061Z"
   },
   {
    "duration": 5535,
    "start_time": "2024-08-12T17:16:08.828Z"
   },
   {
    "duration": 49,
    "start_time": "2024-08-12T17:16:14.367Z"
   },
   {
    "duration": 23,
    "start_time": "2024-08-12T17:16:14.418Z"
   },
   {
    "duration": 10,
    "start_time": "2024-08-12T17:16:14.445Z"
   },
   {
    "duration": 5,
    "start_time": "2024-08-12T17:16:14.458Z"
   },
   {
    "duration": 4,
    "start_time": "2024-08-12T17:16:14.466Z"
   },
   {
    "duration": 10,
    "start_time": "2024-08-12T17:16:14.474Z"
   },
   {
    "duration": 76,
    "start_time": "2024-08-12T17:16:14.487Z"
   },
   {
    "duration": 12,
    "start_time": "2024-08-12T17:16:14.565Z"
   },
   {
    "duration": 324,
    "start_time": "2024-08-12T17:16:14.583Z"
   },
   {
    "duration": 306,
    "start_time": "2024-08-12T17:16:14.909Z"
   },
   {
    "duration": 287,
    "start_time": "2024-08-12T17:16:15.218Z"
   },
   {
    "duration": 26,
    "start_time": "2024-08-12T17:16:15.508Z"
   },
   {
    "duration": 22,
    "start_time": "2024-08-12T17:16:15.537Z"
   },
   {
    "duration": 73,
    "start_time": "2024-08-12T17:16:15.562Z"
   },
   {
    "duration": 0,
    "start_time": "2024-08-12T17:17:24.437Z"
   },
   {
    "duration": 0,
    "start_time": "2024-08-12T17:17:24.439Z"
   },
   {
    "duration": 1777,
    "start_time": "2024-08-12T17:21:54.210Z"
   },
   {
    "duration": 41,
    "start_time": "2024-08-12T17:21:55.992Z"
   },
   {
    "duration": 26,
    "start_time": "2024-08-12T17:21:56.037Z"
   },
   {
    "duration": 10,
    "start_time": "2024-08-12T17:21:56.066Z"
   },
   {
    "duration": 4,
    "start_time": "2024-08-12T17:21:56.080Z"
   },
   {
    "duration": 4,
    "start_time": "2024-08-12T17:21:56.088Z"
   },
   {
    "duration": 12,
    "start_time": "2024-08-12T17:21:56.134Z"
   },
   {
    "duration": 34,
    "start_time": "2024-08-12T17:21:56.149Z"
   },
   {
    "duration": 52,
    "start_time": "2024-08-12T17:21:56.186Z"
   },
   {
    "duration": 318,
    "start_time": "2024-08-12T17:21:56.241Z"
   },
   {
    "duration": 300,
    "start_time": "2024-08-12T17:21:56.562Z"
   },
   {
    "duration": 226,
    "start_time": "2024-08-12T17:21:56.866Z"
   },
   {
    "duration": 14,
    "start_time": "2024-08-12T17:21:57.096Z"
   },
   {
    "duration": 38,
    "start_time": "2024-08-12T17:21:57.116Z"
   },
   {
    "duration": 77,
    "start_time": "2024-08-12T17:21:57.157Z"
   },
   {
    "duration": 1830,
    "start_time": "2024-08-12T17:38:58.005Z"
   },
   {
    "duration": 45,
    "start_time": "2024-08-12T17:38:59.840Z"
   },
   {
    "duration": 22,
    "start_time": "2024-08-12T17:38:59.889Z"
   },
   {
    "duration": 27,
    "start_time": "2024-08-12T17:38:59.913Z"
   },
   {
    "duration": 5,
    "start_time": "2024-08-12T17:38:59.945Z"
   },
   {
    "duration": 4,
    "start_time": "2024-08-12T17:38:59.959Z"
   },
   {
    "duration": 20,
    "start_time": "2024-08-12T17:38:59.966Z"
   },
   {
    "duration": 61,
    "start_time": "2024-08-12T17:38:59.989Z"
   },
   {
    "duration": 11,
    "start_time": "2024-08-12T17:39:00.054Z"
   },
   {
    "duration": 368,
    "start_time": "2024-08-12T17:39:00.067Z"
   },
   {
    "duration": 323,
    "start_time": "2024-08-12T17:39:00.438Z"
   },
   {
    "duration": 207,
    "start_time": "2024-08-12T17:39:00.764Z"
   },
   {
    "duration": 13,
    "start_time": "2024-08-12T17:39:00.974Z"
   },
   {
    "duration": 55,
    "start_time": "2024-08-12T17:39:00.992Z"
   },
   {
    "duration": 5,
    "start_time": "2024-08-12T17:39:01.049Z"
   },
   {
    "duration": 46009,
    "start_time": "2024-08-12T17:39:01.057Z"
   },
   {
    "duration": 18,
    "start_time": "2024-08-12T17:39:47.136Z"
   },
   {
    "duration": 5,
    "start_time": "2024-08-12T17:39:47.161Z"
   },
   {
    "duration": 22,
    "start_time": "2024-08-12T17:44:15.724Z"
   },
   {
    "duration": 8,
    "start_time": "2024-08-12T17:49:22.808Z"
   },
   {
    "duration": 544,
    "start_time": "2024-08-12T18:10:01.066Z"
   },
   {
    "duration": 4,
    "start_time": "2024-08-12T18:10:02.475Z"
   },
   {
    "duration": 29,
    "start_time": "2024-08-12T18:10:03.701Z"
   },
   {
    "duration": 6,
    "start_time": "2024-08-12T18:10:20.814Z"
   },
   {
    "duration": 49,
    "start_time": "2024-08-12T18:10:25.114Z"
   },
   {
    "duration": 5,
    "start_time": "2024-08-12T18:10:58.347Z"
   },
   {
    "duration": 858,
    "start_time": "2024-08-12T18:11:02.140Z"
   },
   {
    "duration": 497789,
    "start_time": "2024-08-12T18:11:19.967Z"
   },
   {
    "duration": 7,
    "start_time": "2024-08-12T18:24:05.288Z"
   },
   {
    "duration": 134,
    "start_time": "2024-08-12T18:40:58.646Z"
   },
   {
    "duration": 131,
    "start_time": "2024-08-12T18:41:40.458Z"
   },
   {
    "duration": 19024,
    "start_time": "2024-08-12T18:41:56.516Z"
   },
   {
    "duration": 1806,
    "start_time": "2024-08-12T18:53:34.051Z"
   },
   {
    "duration": 41,
    "start_time": "2024-08-12T18:53:35.861Z"
   },
   {
    "duration": 38,
    "start_time": "2024-08-12T18:53:35.907Z"
   },
   {
    "duration": 12,
    "start_time": "2024-08-12T18:53:35.952Z"
   },
   {
    "duration": 13,
    "start_time": "2024-08-12T18:53:35.969Z"
   },
   {
    "duration": 8,
    "start_time": "2024-08-12T18:53:35.985Z"
   },
   {
    "duration": 38,
    "start_time": "2024-08-12T18:53:35.997Z"
   },
   {
    "duration": 44,
    "start_time": "2024-08-12T18:53:36.039Z"
   },
   {
    "duration": 14,
    "start_time": "2024-08-12T18:53:36.087Z"
   },
   {
    "duration": 363,
    "start_time": "2024-08-12T18:53:36.104Z"
   },
   {
    "duration": 304,
    "start_time": "2024-08-12T18:53:36.470Z"
   },
   {
    "duration": 224,
    "start_time": "2024-08-12T18:53:36.777Z"
   },
   {
    "duration": 31,
    "start_time": "2024-08-12T18:53:37.004Z"
   },
   {
    "duration": 27,
    "start_time": "2024-08-12T18:53:37.044Z"
   },
   {
    "duration": 80,
    "start_time": "2024-08-12T18:53:37.075Z"
   },
   {
    "duration": 77,
    "start_time": "2024-08-12T18:53:37.161Z"
   },
   {
    "duration": 4,
    "start_time": "2024-08-12T18:53:37.242Z"
   },
   {
    "duration": 11,
    "start_time": "2024-08-12T18:53:37.250Z"
   },
   {
    "duration": 6,
    "start_time": "2024-08-12T18:53:37.265Z"
   },
   {
    "duration": 332855,
    "start_time": "2024-08-12T18:53:37.275Z"
   },
   {
    "duration": 0,
    "start_time": "2024-08-12T18:59:10.135Z"
   },
   {
    "duration": 0,
    "start_time": "2024-08-12T18:59:10.138Z"
   },
   {
    "duration": 0,
    "start_time": "2024-08-12T18:59:10.142Z"
   },
   {
    "duration": 0,
    "start_time": "2024-08-12T18:59:10.144Z"
   },
   {
    "duration": 0,
    "start_time": "2024-08-12T18:59:10.146Z"
   },
   {
    "duration": 0,
    "start_time": "2024-08-12T18:59:10.148Z"
   },
   {
    "duration": 0,
    "start_time": "2024-08-12T18:59:10.151Z"
   },
   {
    "duration": 0,
    "start_time": "2024-08-12T18:59:10.153Z"
   },
   {
    "duration": 0,
    "start_time": "2024-08-12T18:59:10.155Z"
   },
   {
    "duration": 0,
    "start_time": "2024-08-12T18:59:10.157Z"
   },
   {
    "duration": 0,
    "start_time": "2024-08-12T18:59:10.159Z"
   },
   {
    "duration": 0,
    "start_time": "2024-08-12T18:59:10.160Z"
   },
   {
    "duration": 0,
    "start_time": "2024-08-12T18:59:10.163Z"
   },
   {
    "duration": 0,
    "start_time": "2024-08-12T18:59:10.165Z"
   },
   {
    "duration": 1747,
    "start_time": "2024-08-12T18:59:11.752Z"
   },
   {
    "duration": 41,
    "start_time": "2024-08-12T18:59:13.502Z"
   },
   {
    "duration": 23,
    "start_time": "2024-08-12T18:59:13.546Z"
   },
   {
    "duration": 10,
    "start_time": "2024-08-12T18:59:13.572Z"
   },
   {
    "duration": 9,
    "start_time": "2024-08-12T18:59:13.587Z"
   },
   {
    "duration": 37,
    "start_time": "2024-08-12T18:59:13.599Z"
   },
   {
    "duration": 12,
    "start_time": "2024-08-12T18:59:13.640Z"
   },
   {
    "duration": 491,
    "start_time": "2024-08-12T18:59:13.655Z"
   },
   {
    "duration": 1,
    "start_time": "2024-08-12T18:59:14.150Z"
   },
   {
    "duration": 0,
    "start_time": "2024-08-12T18:59:14.153Z"
   },
   {
    "duration": 0,
    "start_time": "2024-08-12T18:59:14.155Z"
   },
   {
    "duration": 0,
    "start_time": "2024-08-12T18:59:14.157Z"
   },
   {
    "duration": 0,
    "start_time": "2024-08-12T18:59:14.159Z"
   },
   {
    "duration": 0,
    "start_time": "2024-08-12T18:59:14.161Z"
   },
   {
    "duration": 0,
    "start_time": "2024-08-12T18:59:14.163Z"
   },
   {
    "duration": 0,
    "start_time": "2024-08-12T18:59:14.165Z"
   },
   {
    "duration": 0,
    "start_time": "2024-08-12T18:59:14.166Z"
   },
   {
    "duration": 0,
    "start_time": "2024-08-12T18:59:14.167Z"
   },
   {
    "duration": 0,
    "start_time": "2024-08-12T18:59:14.169Z"
   },
   {
    "duration": 0,
    "start_time": "2024-08-12T18:59:14.172Z"
   },
   {
    "duration": 0,
    "start_time": "2024-08-12T18:59:14.176Z"
   },
   {
    "duration": 0,
    "start_time": "2024-08-12T18:59:14.177Z"
   },
   {
    "duration": 0,
    "start_time": "2024-08-12T18:59:14.180Z"
   },
   {
    "duration": 0,
    "start_time": "2024-08-12T18:59:14.182Z"
   },
   {
    "duration": 0,
    "start_time": "2024-08-12T18:59:14.233Z"
   },
   {
    "duration": 0,
    "start_time": "2024-08-12T18:59:14.236Z"
   },
   {
    "duration": 0,
    "start_time": "2024-08-12T18:59:14.238Z"
   },
   {
    "duration": 0,
    "start_time": "2024-08-12T18:59:14.241Z"
   },
   {
    "duration": 0,
    "start_time": "2024-08-12T18:59:14.245Z"
   },
   {
    "duration": 0,
    "start_time": "2024-08-12T18:59:14.247Z"
   },
   {
    "duration": 0,
    "start_time": "2024-08-12T18:59:14.249Z"
   },
   {
    "duration": 1,
    "start_time": "2024-08-12T18:59:14.251Z"
   },
   {
    "duration": 0,
    "start_time": "2024-08-12T18:59:14.254Z"
   },
   {
    "duration": 0,
    "start_time": "2024-08-12T18:59:14.256Z"
   },
   {
    "duration": 1713,
    "start_time": "2024-08-12T18:59:31.513Z"
   },
   {
    "duration": 32,
    "start_time": "2024-08-12T18:59:33.234Z"
   },
   {
    "duration": 24,
    "start_time": "2024-08-12T18:59:33.269Z"
   },
   {
    "duration": 9,
    "start_time": "2024-08-12T18:59:33.295Z"
   },
   {
    "duration": 5,
    "start_time": "2024-08-12T18:59:33.337Z"
   },
   {
    "duration": 4,
    "start_time": "2024-08-12T18:59:33.345Z"
   },
   {
    "duration": 11,
    "start_time": "2024-08-12T18:59:33.353Z"
   },
   {
    "duration": 588,
    "start_time": "2024-08-12T18:59:33.367Z"
   },
   {
    "duration": 11,
    "start_time": "2024-08-12T18:59:34.035Z"
   },
   {
    "duration": 318,
    "start_time": "2024-08-12T18:59:34.049Z"
   },
   {
    "duration": 297,
    "start_time": "2024-08-12T18:59:34.370Z"
   },
   {
    "duration": 218,
    "start_time": "2024-08-12T18:59:34.670Z"
   },
   {
    "duration": 15,
    "start_time": "2024-08-12T18:59:34.891Z"
   },
   {
    "duration": 32,
    "start_time": "2024-08-12T18:59:34.913Z"
   },
   {
    "duration": 9,
    "start_time": "2024-08-12T18:59:34.947Z"
   },
   {
    "duration": 78,
    "start_time": "2024-08-12T18:59:34.959Z"
   },
   {
    "duration": 4,
    "start_time": "2024-08-12T18:59:35.040Z"
   },
   {
    "duration": 87,
    "start_time": "2024-08-12T18:59:35.048Z"
   },
   {
    "duration": 5,
    "start_time": "2024-08-12T18:59:35.139Z"
   },
   {
    "duration": 494996,
    "start_time": "2024-08-12T18:59:35.148Z"
   },
   {
    "duration": 18992,
    "start_time": "2024-08-12T19:07:50.147Z"
   },
   {
    "duration": 6,
    "start_time": "2024-08-12T19:08:09.142Z"
   },
   {
    "duration": 14,
    "start_time": "2024-08-12T19:08:09.151Z"
   },
   {
    "duration": 6,
    "start_time": "2024-08-12T19:08:09.168Z"
   },
   {
    "duration": 23343,
    "start_time": "2024-08-12T19:08:09.178Z"
   },
   {
    "duration": 548,
    "start_time": "2024-08-12T19:08:32.524Z"
   },
   {
    "duration": 1,
    "start_time": "2024-08-12T19:08:33.074Z"
   },
   {
    "duration": 0,
    "start_time": "2024-08-12T19:08:33.076Z"
   },
   {
    "duration": 0,
    "start_time": "2024-08-12T19:08:33.078Z"
   },
   {
    "duration": 0,
    "start_time": "2024-08-12T19:08:33.081Z"
   },
   {
    "duration": 0,
    "start_time": "2024-08-12T19:08:33.084Z"
   },
   {
    "duration": 0,
    "start_time": "2024-08-12T19:08:33.087Z"
   },
   {
    "duration": 0,
    "start_time": "2024-08-12T19:08:33.089Z"
   },
   {
    "duration": 0,
    "start_time": "2024-08-12T19:08:33.091Z"
   },
   {
    "duration": 493,
    "start_time": "2024-08-12T19:44:36.334Z"
   },
   {
    "duration": 6,
    "start_time": "2024-08-12T19:44:39.136Z"
   },
   {
    "duration": 5,
    "start_time": "2024-08-12T19:44:42.720Z"
   },
   {
    "duration": 4,
    "start_time": "2024-08-12T19:44:44.077Z"
   },
   {
    "duration": 9,
    "start_time": "2024-08-12T19:44:45.415Z"
   },
   {
    "duration": 246,
    "start_time": "2024-08-12T19:44:53.059Z"
   },
   {
    "duration": 6,
    "start_time": "2024-08-12T19:46:08.690Z"
   },
   {
    "duration": 221,
    "start_time": "2024-08-12T19:46:18.075Z"
   },
   {
    "duration": 219,
    "start_time": "2024-08-12T19:46:37.970Z"
   },
   {
    "duration": 233,
    "start_time": "2024-08-12T19:46:48.397Z"
   },
   {
    "duration": 232,
    "start_time": "2024-08-12T19:47:03.616Z"
   },
   {
    "duration": 353,
    "start_time": "2024-08-12T19:47:08.876Z"
   },
   {
    "duration": 8,
    "start_time": "2024-08-12T19:49:53.332Z"
   },
   {
    "duration": 359,
    "start_time": "2024-08-12T19:49:55.769Z"
   },
   {
    "duration": 324,
    "start_time": "2024-08-12T19:50:14.393Z"
   },
   {
    "duration": 4,
    "start_time": "2024-08-12T19:51:21.732Z"
   },
   {
    "duration": 741,
    "start_time": "2024-08-12T19:54:16.663Z"
   },
   {
    "duration": 1716,
    "start_time": "2024-08-12T19:56:12.999Z"
   },
   {
    "duration": 42,
    "start_time": "2024-08-12T19:56:14.719Z"
   },
   {
    "duration": 22,
    "start_time": "2024-08-12T19:56:14.764Z"
   },
   {
    "duration": 9,
    "start_time": "2024-08-12T19:56:14.789Z"
   },
   {
    "duration": 34,
    "start_time": "2024-08-12T19:56:14.801Z"
   },
   {
    "duration": 5,
    "start_time": "2024-08-12T19:56:14.837Z"
   },
   {
    "duration": 13,
    "start_time": "2024-08-12T19:56:14.844Z"
   },
   {
    "duration": 591,
    "start_time": "2024-08-12T19:56:14.860Z"
   },
   {
    "duration": 84,
    "start_time": "2024-08-12T19:56:15.453Z"
   },
   {
    "duration": 323,
    "start_time": "2024-08-12T19:56:15.540Z"
   },
   {
    "duration": 313,
    "start_time": "2024-08-12T19:56:15.866Z"
   },
   {
    "duration": 208,
    "start_time": "2024-08-12T19:56:16.182Z"
   },
   {
    "duration": 15,
    "start_time": "2024-08-12T19:56:16.393Z"
   },
   {
    "duration": 17,
    "start_time": "2024-08-12T19:56:16.433Z"
   },
   {
    "duration": 11,
    "start_time": "2024-08-12T19:56:16.453Z"
   },
   {
    "duration": 15,
    "start_time": "2024-08-12T19:56:16.537Z"
   },
   {
    "duration": 79,
    "start_time": "2024-08-12T19:56:16.555Z"
   },
   {
    "duration": 9,
    "start_time": "2024-08-12T19:56:16.638Z"
   },
   {
    "duration": 4,
    "start_time": "2024-08-12T19:56:16.651Z"
   },
   {
    "duration": 4465,
    "start_time": "2024-08-12T19:56:16.659Z"
   },
   {
    "duration": 1077,
    "start_time": "2024-08-12T19:56:21.127Z"
   },
   {
    "duration": 6,
    "start_time": "2024-08-12T19:56:22.206Z"
   },
   {
    "duration": 195,
    "start_time": "2024-08-12T19:56:22.215Z"
   },
   {
    "duration": 0,
    "start_time": "2024-08-12T19:56:22.412Z"
   },
   {
    "duration": 0,
    "start_time": "2024-08-12T19:56:22.415Z"
   },
   {
    "duration": 0,
    "start_time": "2024-08-12T19:56:22.417Z"
   },
   {
    "duration": 0,
    "start_time": "2024-08-12T19:56:22.419Z"
   },
   {
    "duration": 0,
    "start_time": "2024-08-12T19:56:22.433Z"
   },
   {
    "duration": 1,
    "start_time": "2024-08-12T19:56:22.435Z"
   },
   {
    "duration": 0,
    "start_time": "2024-08-12T19:56:22.437Z"
   },
   {
    "duration": 0,
    "start_time": "2024-08-12T19:56:22.439Z"
   },
   {
    "duration": 0,
    "start_time": "2024-08-12T19:56:22.442Z"
   },
   {
    "duration": 0,
    "start_time": "2024-08-12T19:56:22.443Z"
   },
   {
    "duration": 0,
    "start_time": "2024-08-12T19:56:22.445Z"
   },
   {
    "duration": 0,
    "start_time": "2024-08-12T19:56:22.447Z"
   },
   {
    "duration": 1843,
    "start_time": "2024-08-12T20:04:15.281Z"
   },
   {
    "duration": 46,
    "start_time": "2024-08-12T20:04:17.127Z"
   },
   {
    "duration": 23,
    "start_time": "2024-08-12T20:04:17.176Z"
   },
   {
    "duration": 33,
    "start_time": "2024-08-12T20:04:17.203Z"
   },
   {
    "duration": 5,
    "start_time": "2024-08-12T20:04:17.239Z"
   },
   {
    "duration": 4,
    "start_time": "2024-08-12T20:04:17.247Z"
   },
   {
    "duration": 13,
    "start_time": "2024-08-12T20:04:17.255Z"
   },
   {
    "duration": 570,
    "start_time": "2024-08-12T20:04:17.271Z"
   },
   {
    "duration": 90,
    "start_time": "2024-08-12T20:04:17.844Z"
   },
   {
    "duration": 352,
    "start_time": "2024-08-12T20:04:17.940Z"
   },
   {
    "duration": 316,
    "start_time": "2024-08-12T20:04:18.299Z"
   },
   {
    "duration": 280,
    "start_time": "2024-08-12T20:04:18.618Z"
   },
   {
    "duration": 34,
    "start_time": "2024-08-12T20:04:18.902Z"
   },
   {
    "duration": 23,
    "start_time": "2024-08-12T20:04:18.940Z"
   },
   {
    "duration": 70,
    "start_time": "2024-08-12T20:04:18.972Z"
   },
   {
    "duration": 16,
    "start_time": "2024-08-12T20:04:19.055Z"
   },
   {
    "duration": 6,
    "start_time": "2024-08-12T20:04:19.136Z"
   },
   {
    "duration": 14,
    "start_time": "2024-08-12T20:04:19.149Z"
   },
   {
    "duration": 6,
    "start_time": "2024-08-12T20:04:19.166Z"
   },
   {
    "duration": 1455,
    "start_time": "2024-08-12T20:04:19.176Z"
   },
   {
    "duration": 78137,
    "start_time": "2024-08-12T20:04:20.639Z"
   },
   {
    "duration": 198,
    "start_time": "2024-08-12T20:05:38.780Z"
   },
   {
    "duration": 0,
    "start_time": "2024-08-12T20:05:38.981Z"
   },
   {
    "duration": 0,
    "start_time": "2024-08-12T20:05:38.983Z"
   },
   {
    "duration": 0,
    "start_time": "2024-08-12T20:05:38.994Z"
   },
   {
    "duration": 0,
    "start_time": "2024-08-12T20:05:38.999Z"
   },
   {
    "duration": 0,
    "start_time": "2024-08-12T20:05:39.003Z"
   },
   {
    "duration": 0,
    "start_time": "2024-08-12T20:05:39.005Z"
   },
   {
    "duration": 0,
    "start_time": "2024-08-12T20:05:39.008Z"
   },
   {
    "duration": 0,
    "start_time": "2024-08-12T20:05:39.011Z"
   },
   {
    "duration": 0,
    "start_time": "2024-08-12T20:05:39.013Z"
   },
   {
    "duration": 0,
    "start_time": "2024-08-12T20:05:39.035Z"
   },
   {
    "duration": 0,
    "start_time": "2024-08-12T20:05:39.037Z"
   },
   {
    "duration": 0,
    "start_time": "2024-08-12T20:05:39.041Z"
   },
   {
    "duration": 0,
    "start_time": "2024-08-12T20:05:39.044Z"
   },
   {
    "duration": 11,
    "start_time": "2024-08-12T20:07:09.768Z"
   },
   {
    "duration": 25,
    "start_time": "2024-08-12T20:07:11.074Z"
   },
   {
    "duration": 60,
    "start_time": "2024-08-12T20:07:23.822Z"
   },
   {
    "duration": 29,
    "start_time": "2024-08-12T20:07:47.035Z"
   },
   {
    "duration": 33,
    "start_time": "2024-08-12T20:07:52.292Z"
   },
   {
    "duration": 38,
    "start_time": "2024-08-12T20:07:58.456Z"
   },
   {
    "duration": 1719,
    "start_time": "2024-08-12T20:09:22.802Z"
   },
   {
    "duration": 36,
    "start_time": "2024-08-12T20:09:24.525Z"
   },
   {
    "duration": 22,
    "start_time": "2024-08-12T20:09:24.563Z"
   },
   {
    "duration": 10,
    "start_time": "2024-08-12T20:09:24.588Z"
   },
   {
    "duration": 4,
    "start_time": "2024-08-12T20:09:24.636Z"
   },
   {
    "duration": 5,
    "start_time": "2024-08-12T20:09:24.643Z"
   },
   {
    "duration": 11,
    "start_time": "2024-08-12T20:09:24.654Z"
   },
   {
    "duration": 668,
    "start_time": "2024-08-12T20:09:24.668Z"
   },
   {
    "duration": 11,
    "start_time": "2024-08-12T20:09:25.339Z"
   },
   {
    "duration": 342,
    "start_time": "2024-08-12T20:09:25.353Z"
   },
   {
    "duration": 300,
    "start_time": "2024-08-12T20:09:25.698Z"
   },
   {
    "duration": 215,
    "start_time": "2024-08-12T20:09:26.001Z"
   },
   {
    "duration": 27,
    "start_time": "2024-08-12T20:09:26.219Z"
   },
   {
    "duration": 13,
    "start_time": "2024-08-12T20:09:26.254Z"
   },
   {
    "duration": 72,
    "start_time": "2024-08-12T20:09:26.270Z"
   },
   {
    "duration": 11,
    "start_time": "2024-08-12T20:09:26.346Z"
   },
   {
    "duration": 77,
    "start_time": "2024-08-12T20:09:26.360Z"
   },
   {
    "duration": 7,
    "start_time": "2024-08-12T20:09:26.441Z"
   },
   {
    "duration": 5,
    "start_time": "2024-08-12T20:09:26.451Z"
   },
   {
    "duration": 33256,
    "start_time": "2024-08-12T20:09:26.459Z"
   },
   {
    "duration": 249,
    "start_time": "2024-08-12T20:09:59.719Z"
   },
   {
    "duration": 0,
    "start_time": "2024-08-12T20:09:59.971Z"
   },
   {
    "duration": 0,
    "start_time": "2024-08-12T20:09:59.973Z"
   },
   {
    "duration": 0,
    "start_time": "2024-08-12T20:09:59.976Z"
   },
   {
    "duration": 0,
    "start_time": "2024-08-12T20:09:59.978Z"
   },
   {
    "duration": 0,
    "start_time": "2024-08-12T20:09:59.980Z"
   },
   {
    "duration": 0,
    "start_time": "2024-08-12T20:09:59.982Z"
   },
   {
    "duration": 0,
    "start_time": "2024-08-12T20:09:59.984Z"
   },
   {
    "duration": 0,
    "start_time": "2024-08-12T20:09:59.986Z"
   },
   {
    "duration": 0,
    "start_time": "2024-08-12T20:09:59.988Z"
   },
   {
    "duration": 0,
    "start_time": "2024-08-12T20:09:59.991Z"
   },
   {
    "duration": 0,
    "start_time": "2024-08-12T20:09:59.992Z"
   },
   {
    "duration": 0,
    "start_time": "2024-08-12T20:09:59.994Z"
   },
   {
    "duration": 0,
    "start_time": "2024-08-12T20:09:59.997Z"
   },
   {
    "duration": 0,
    "start_time": "2024-08-12T20:10:00.039Z"
   },
   {
    "duration": 1784,
    "start_time": "2024-08-12T20:15:09.460Z"
   },
   {
    "duration": 33,
    "start_time": "2024-08-12T20:15:11.247Z"
   },
   {
    "duration": 23,
    "start_time": "2024-08-12T20:15:11.283Z"
   },
   {
    "duration": 33,
    "start_time": "2024-08-12T20:15:11.308Z"
   },
   {
    "duration": 4,
    "start_time": "2024-08-12T20:15:11.346Z"
   },
   {
    "duration": 5,
    "start_time": "2024-08-12T20:15:11.353Z"
   },
   {
    "duration": 12,
    "start_time": "2024-08-12T20:15:11.360Z"
   },
   {
    "duration": 671,
    "start_time": "2024-08-12T20:15:11.374Z"
   },
   {
    "duration": 86,
    "start_time": "2024-08-12T20:15:12.048Z"
   },
   {
    "duration": 314,
    "start_time": "2024-08-12T20:15:12.137Z"
   },
   {
    "duration": 291,
    "start_time": "2024-08-12T20:15:12.454Z"
   },
   {
    "duration": 205,
    "start_time": "2024-08-12T20:15:12.748Z"
   },
   {
    "duration": 15,
    "start_time": "2024-08-12T20:15:12.956Z"
   },
   {
    "duration": 58,
    "start_time": "2024-08-12T20:15:12.977Z"
   },
   {
    "duration": 20,
    "start_time": "2024-08-12T20:15:13.037Z"
   },
   {
    "duration": 83,
    "start_time": "2024-08-12T20:15:13.062Z"
   },
   {
    "duration": 3,
    "start_time": "2024-08-12T20:15:13.149Z"
   },
   {
    "duration": 8,
    "start_time": "2024-08-12T20:15:13.156Z"
   },
   {
    "duration": 5,
    "start_time": "2024-08-12T20:15:13.233Z"
   },
   {
    "duration": 29858,
    "start_time": "2024-08-12T20:15:13.241Z"
   },
   {
    "duration": 1702,
    "start_time": "2024-08-12T20:16:12.414Z"
   },
   {
    "duration": 42,
    "start_time": "2024-08-12T20:16:14.119Z"
   },
   {
    "duration": 28,
    "start_time": "2024-08-12T20:16:14.163Z"
   },
   {
    "duration": 10,
    "start_time": "2024-08-12T20:16:14.195Z"
   },
   {
    "duration": 5,
    "start_time": "2024-08-12T20:16:14.234Z"
   },
   {
    "duration": 6,
    "start_time": "2024-08-12T20:16:14.243Z"
   },
   {
    "duration": 17,
    "start_time": "2024-08-12T20:16:14.252Z"
   },
   {
    "duration": 584,
    "start_time": "2024-08-12T20:16:14.272Z"
   },
   {
    "duration": 83,
    "start_time": "2024-08-12T20:16:14.859Z"
   },
   {
    "duration": 337,
    "start_time": "2024-08-12T20:16:14.946Z"
   },
   {
    "duration": 308,
    "start_time": "2024-08-12T20:16:15.286Z"
   },
   {
    "duration": 208,
    "start_time": "2024-08-12T20:16:15.598Z"
   },
   {
    "duration": 30,
    "start_time": "2024-08-12T20:16:15.809Z"
   },
   {
    "duration": 14,
    "start_time": "2024-08-12T20:16:15.845Z"
   },
   {
    "duration": 8,
    "start_time": "2024-08-12T20:16:15.861Z"
   },
   {
    "duration": 6,
    "start_time": "2024-08-12T20:16:15.935Z"
   },
   {
    "duration": 11,
    "start_time": "2024-08-12T20:16:15.944Z"
   },
   {
    "duration": 78,
    "start_time": "2024-08-12T20:16:15.958Z"
   },
   {
    "duration": 6,
    "start_time": "2024-08-12T20:16:16.039Z"
   },
   {
    "duration": 1003,
    "start_time": "2024-08-12T20:16:16.049Z"
   },
   {
    "duration": 91073,
    "start_time": "2024-08-12T20:16:17.055Z"
   },
   {
    "duration": 5,
    "start_time": "2024-08-12T20:17:48.131Z"
   },
   {
    "duration": 4,
    "start_time": "2024-08-12T20:17:48.139Z"
   },
   {
    "duration": 14,
    "start_time": "2024-08-12T20:17:48.146Z"
   },
   {
    "duration": 6,
    "start_time": "2024-08-12T20:17:48.163Z"
   },
   {
    "duration": 23448,
    "start_time": "2024-08-12T20:17:48.172Z"
   },
   {
    "duration": 507,
    "start_time": "2024-08-12T20:18:11.623Z"
   },
   {
    "duration": 6,
    "start_time": "2024-08-12T20:18:12.133Z"
   },
   {
    "duration": 4,
    "start_time": "2024-08-12T20:18:12.142Z"
   },
   {
    "duration": 6,
    "start_time": "2024-08-12T20:18:12.149Z"
   },
   {
    "duration": 347,
    "start_time": "2024-08-12T20:18:12.157Z"
   },
   {
    "duration": 185,
    "start_time": "2024-08-12T20:18:12.507Z"
   },
   {
    "duration": 0,
    "start_time": "2024-08-12T20:18:12.694Z"
   },
   {
    "duration": 0,
    "start_time": "2024-08-12T20:18:12.696Z"
   },
   {
    "duration": 0,
    "start_time": "2024-08-12T20:18:12.698Z"
   },
   {
    "duration": 4,
    "start_time": "2024-08-12T20:19:38.192Z"
   },
   {
    "duration": 357,
    "start_time": "2024-08-12T20:19:39.525Z"
   },
   {
    "duration": 4,
    "start_time": "2024-08-12T20:20:23.847Z"
   },
   {
    "duration": 407,
    "start_time": "2024-08-12T20:20:25.315Z"
   },
   {
    "duration": 2028,
    "start_time": "2024-08-12T20:31:23.836Z"
   },
   {
    "duration": 38,
    "start_time": "2024-08-12T20:31:25.868Z"
   },
   {
    "duration": 43,
    "start_time": "2024-08-12T20:31:25.909Z"
   },
   {
    "duration": 12,
    "start_time": "2024-08-12T20:31:25.956Z"
   },
   {
    "duration": 4,
    "start_time": "2024-08-12T20:31:25.974Z"
   },
   {
    "duration": 5,
    "start_time": "2024-08-12T20:31:25.982Z"
   },
   {
    "duration": 51,
    "start_time": "2024-08-12T20:31:25.995Z"
   },
   {
    "duration": 599,
    "start_time": "2024-08-12T20:31:26.050Z"
   },
   {
    "duration": 84,
    "start_time": "2024-08-12T20:31:26.652Z"
   },
   {
    "duration": 328,
    "start_time": "2024-08-12T20:31:26.743Z"
   },
   {
    "duration": 322,
    "start_time": "2024-08-12T20:31:27.074Z"
   },
   {
    "duration": 213,
    "start_time": "2024-08-12T20:31:27.399Z"
   },
   {
    "duration": 26,
    "start_time": "2024-08-12T20:31:27.616Z"
   },
   {
    "duration": 24,
    "start_time": "2024-08-12T20:31:27.651Z"
   },
   {
    "duration": 62,
    "start_time": "2024-08-12T20:31:27.678Z"
   },
   {
    "duration": 13,
    "start_time": "2024-08-12T20:31:27.743Z"
   },
   {
    "duration": 6,
    "start_time": "2024-08-12T20:31:27.836Z"
   },
   {
    "duration": 15,
    "start_time": "2024-08-12T20:31:27.848Z"
   },
   {
    "duration": 6,
    "start_time": "2024-08-12T20:31:27.866Z"
   },
   {
    "duration": 340,
    "start_time": "2024-08-12T20:31:27.936Z"
   },
   {
    "duration": 383,
    "start_time": "2024-08-12T20:31:28.283Z"
   },
   {
    "duration": 0,
    "start_time": "2024-08-12T20:31:28.671Z"
   },
   {
    "duration": 0,
    "start_time": "2024-08-12T20:31:28.675Z"
   },
   {
    "duration": 0,
    "start_time": "2024-08-12T20:31:28.677Z"
   },
   {
    "duration": 0,
    "start_time": "2024-08-12T20:31:28.680Z"
   },
   {
    "duration": 0,
    "start_time": "2024-08-12T20:31:28.684Z"
   },
   {
    "duration": 0,
    "start_time": "2024-08-12T20:31:28.687Z"
   },
   {
    "duration": 0,
    "start_time": "2024-08-12T20:31:28.689Z"
   },
   {
    "duration": 0,
    "start_time": "2024-08-12T20:31:28.692Z"
   },
   {
    "duration": 0,
    "start_time": "2024-08-12T20:31:28.695Z"
   },
   {
    "duration": 0,
    "start_time": "2024-08-12T20:31:28.697Z"
   },
   {
    "duration": 0,
    "start_time": "2024-08-12T20:31:28.700Z"
   },
   {
    "duration": 0,
    "start_time": "2024-08-12T20:31:28.703Z"
   },
   {
    "duration": 0,
    "start_time": "2024-08-12T20:31:28.705Z"
   },
   {
    "duration": 0,
    "start_time": "2024-08-12T20:31:28.737Z"
   },
   {
    "duration": 1939,
    "start_time": "2024-08-12T20:44:48.336Z"
   },
   {
    "duration": 36,
    "start_time": "2024-08-12T20:44:50.278Z"
   },
   {
    "duration": 37,
    "start_time": "2024-08-12T20:44:50.316Z"
   },
   {
    "duration": 9,
    "start_time": "2024-08-12T20:44:50.356Z"
   },
   {
    "duration": 7,
    "start_time": "2024-08-12T20:44:50.372Z"
   },
   {
    "duration": 12,
    "start_time": "2024-08-12T20:44:50.383Z"
   },
   {
    "duration": 44,
    "start_time": "2024-08-12T20:44:50.398Z"
   },
   {
    "duration": 1024,
    "start_time": "2024-08-12T20:44:50.445Z"
   },
   {
    "duration": 0,
    "start_time": "2024-08-12T20:44:51.473Z"
   },
   {
    "duration": 0,
    "start_time": "2024-08-12T20:44:51.475Z"
   },
   {
    "duration": 0,
    "start_time": "2024-08-12T20:44:51.478Z"
   },
   {
    "duration": 0,
    "start_time": "2024-08-12T20:44:51.480Z"
   },
   {
    "duration": 0,
    "start_time": "2024-08-12T20:44:51.482Z"
   },
   {
    "duration": 0,
    "start_time": "2024-08-12T20:44:51.484Z"
   },
   {
    "duration": 0,
    "start_time": "2024-08-12T20:44:51.486Z"
   },
   {
    "duration": 0,
    "start_time": "2024-08-12T20:44:51.487Z"
   },
   {
    "duration": 0,
    "start_time": "2024-08-12T20:44:51.488Z"
   },
   {
    "duration": 0,
    "start_time": "2024-08-12T20:44:51.490Z"
   },
   {
    "duration": 0,
    "start_time": "2024-08-12T20:44:51.491Z"
   },
   {
    "duration": 0,
    "start_time": "2024-08-12T20:44:51.492Z"
   },
   {
    "duration": 0,
    "start_time": "2024-08-12T20:44:51.495Z"
   },
   {
    "duration": 0,
    "start_time": "2024-08-12T20:44:51.497Z"
   },
   {
    "duration": 0,
    "start_time": "2024-08-12T20:44:51.536Z"
   },
   {
    "duration": 0,
    "start_time": "2024-08-12T20:44:51.538Z"
   },
   {
    "duration": 0,
    "start_time": "2024-08-12T20:44:51.540Z"
   },
   {
    "duration": 0,
    "start_time": "2024-08-12T20:44:51.543Z"
   },
   {
    "duration": 0,
    "start_time": "2024-08-12T20:44:51.546Z"
   },
   {
    "duration": 0,
    "start_time": "2024-08-12T20:44:51.548Z"
   },
   {
    "duration": 0,
    "start_time": "2024-08-12T20:44:51.550Z"
   },
   {
    "duration": 0,
    "start_time": "2024-08-12T20:44:51.553Z"
   },
   {
    "duration": 0,
    "start_time": "2024-08-12T20:44:51.554Z"
   },
   {
    "duration": 0,
    "start_time": "2024-08-12T20:44:51.556Z"
   },
   {
    "duration": 0,
    "start_time": "2024-08-12T20:44:51.559Z"
   },
   {
    "duration": 0,
    "start_time": "2024-08-12T20:44:51.562Z"
   },
   {
    "duration": 0,
    "start_time": "2024-08-12T20:44:51.564Z"
   },
   {
    "duration": 0,
    "start_time": "2024-08-12T20:44:51.566Z"
   },
   {
    "duration": 1776,
    "start_time": "2024-08-12T20:45:37.263Z"
   },
   {
    "duration": 37,
    "start_time": "2024-08-12T20:45:39.046Z"
   },
   {
    "duration": 25,
    "start_time": "2024-08-12T20:45:39.090Z"
   },
   {
    "duration": 10,
    "start_time": "2024-08-12T20:45:39.135Z"
   },
   {
    "duration": 7,
    "start_time": "2024-08-12T20:45:39.148Z"
   },
   {
    "duration": 9,
    "start_time": "2024-08-12T20:45:39.158Z"
   },
   {
    "duration": 13,
    "start_time": "2024-08-12T20:45:39.170Z"
   },
   {
    "duration": 1722,
    "start_time": "2024-08-12T20:46:40.674Z"
   },
   {
    "duration": 42,
    "start_time": "2024-08-12T20:46:42.399Z"
   },
   {
    "duration": 24,
    "start_time": "2024-08-12T20:46:42.443Z"
   },
   {
    "duration": 9,
    "start_time": "2024-08-12T20:46:42.469Z"
   },
   {
    "duration": 5,
    "start_time": "2024-08-12T20:46:42.483Z"
   },
   {
    "duration": 44,
    "start_time": "2024-08-12T20:46:42.490Z"
   },
   {
    "duration": 10,
    "start_time": "2024-08-12T20:46:42.537Z"
   },
   {
    "duration": 15,
    "start_time": "2024-08-12T20:56:21.870Z"
   },
   {
    "duration": 1845,
    "start_time": "2024-08-12T20:56:31.617Z"
   },
   {
    "duration": 35,
    "start_time": "2024-08-12T20:56:33.466Z"
   },
   {
    "duration": 40,
    "start_time": "2024-08-12T20:56:33.504Z"
   },
   {
    "duration": 10,
    "start_time": "2024-08-12T20:56:33.547Z"
   },
   {
    "duration": 5,
    "start_time": "2024-08-12T20:56:33.562Z"
   },
   {
    "duration": 5,
    "start_time": "2024-08-12T20:56:33.570Z"
   },
   {
    "duration": 60,
    "start_time": "2024-08-12T20:56:33.578Z"
   },
   {
    "duration": 7,
    "start_time": "2024-08-12T20:56:33.642Z"
   },
   {
    "duration": 0,
    "start_time": "2024-08-12T20:56:33.655Z"
   },
   {
    "duration": 0,
    "start_time": "2024-08-12T20:56:33.662Z"
   },
   {
    "duration": 0,
    "start_time": "2024-08-12T20:56:33.665Z"
   },
   {
    "duration": 0,
    "start_time": "2024-08-12T20:56:33.667Z"
   },
   {
    "duration": 0,
    "start_time": "2024-08-12T20:56:33.669Z"
   },
   {
    "duration": 0,
    "start_time": "2024-08-12T20:56:33.671Z"
   },
   {
    "duration": 0,
    "start_time": "2024-08-12T20:56:33.673Z"
   },
   {
    "duration": 0,
    "start_time": "2024-08-12T20:56:33.675Z"
   },
   {
    "duration": 0,
    "start_time": "2024-08-12T20:56:33.678Z"
   },
   {
    "duration": 0,
    "start_time": "2024-08-12T20:56:33.680Z"
   },
   {
    "duration": 0,
    "start_time": "2024-08-12T20:56:33.682Z"
   },
   {
    "duration": 0,
    "start_time": "2024-08-12T20:56:33.685Z"
   },
   {
    "duration": 0,
    "start_time": "2024-08-12T20:56:33.687Z"
   },
   {
    "duration": 0,
    "start_time": "2024-08-12T20:56:33.735Z"
   },
   {
    "duration": 0,
    "start_time": "2024-08-12T20:56:33.738Z"
   },
   {
    "duration": 0,
    "start_time": "2024-08-12T20:56:33.741Z"
   },
   {
    "duration": 0,
    "start_time": "2024-08-12T20:56:33.744Z"
   },
   {
    "duration": 1,
    "start_time": "2024-08-12T20:56:33.746Z"
   },
   {
    "duration": 0,
    "start_time": "2024-08-12T20:56:33.749Z"
   },
   {
    "duration": 0,
    "start_time": "2024-08-12T20:56:33.752Z"
   },
   {
    "duration": 0,
    "start_time": "2024-08-12T20:56:33.754Z"
   },
   {
    "duration": 0,
    "start_time": "2024-08-12T20:56:33.756Z"
   },
   {
    "duration": 0,
    "start_time": "2024-08-12T20:56:33.759Z"
   },
   {
    "duration": 0,
    "start_time": "2024-08-12T20:56:33.761Z"
   },
   {
    "duration": 0,
    "start_time": "2024-08-12T20:56:33.764Z"
   },
   {
    "duration": 0,
    "start_time": "2024-08-12T20:56:33.766Z"
   },
   {
    "duration": 0,
    "start_time": "2024-08-12T20:56:33.769Z"
   },
   {
    "duration": 0,
    "start_time": "2024-08-12T20:56:33.772Z"
   },
   {
    "duration": 1715,
    "start_time": "2024-08-12T20:57:09.603Z"
   },
   {
    "duration": 842,
    "start_time": "2024-08-12T20:57:42.899Z"
   },
   {
    "duration": 1036,
    "start_time": "2024-08-12T20:57:51.616Z"
   },
   {
    "duration": 690,
    "start_time": "2024-08-12T20:58:05.681Z"
   },
   {
    "duration": 833,
    "start_time": "2024-08-12T20:58:29.991Z"
   },
   {
    "duration": 1224,
    "start_time": "2024-08-12T20:58:48.618Z"
   },
   {
    "duration": 3438,
    "start_time": "2024-08-12T20:59:05.120Z"
   },
   {
    "duration": 823,
    "start_time": "2024-08-12T21:01:16.237Z"
   },
   {
    "duration": 1820,
    "start_time": "2024-08-12T21:01:36.438Z"
   },
   {
    "duration": 39,
    "start_time": "2024-08-12T21:01:38.262Z"
   },
   {
    "duration": 38,
    "start_time": "2024-08-12T21:01:38.303Z"
   },
   {
    "duration": 10,
    "start_time": "2024-08-12T21:01:38.344Z"
   },
   {
    "duration": 4,
    "start_time": "2024-08-12T21:01:38.359Z"
   },
   {
    "duration": 4,
    "start_time": "2024-08-12T21:01:38.367Z"
   },
   {
    "duration": 12,
    "start_time": "2024-08-12T21:01:38.374Z"
   },
   {
    "duration": 701,
    "start_time": "2024-08-12T21:01:38.389Z"
   },
   {
    "duration": 141,
    "start_time": "2024-08-12T21:01:39.093Z"
   },
   {
    "duration": 12,
    "start_time": "2024-08-12T21:01:39.237Z"
   },
   {
    "duration": 409,
    "start_time": "2024-08-12T21:01:39.253Z"
   },
   {
    "duration": 336,
    "start_time": "2024-08-12T21:01:39.671Z"
   },
   {
    "duration": 256,
    "start_time": "2024-08-12T21:01:40.010Z"
   },
   {
    "duration": 18,
    "start_time": "2024-08-12T21:01:40.277Z"
   },
   {
    "duration": 42,
    "start_time": "2024-08-12T21:01:40.298Z"
   },
   {
    "duration": 93,
    "start_time": "2024-08-12T21:01:40.343Z"
   },
   {
    "duration": 12,
    "start_time": "2024-08-12T21:01:40.447Z"
   },
   {
    "duration": 4,
    "start_time": "2024-08-12T21:01:40.462Z"
   },
   {
    "duration": 67,
    "start_time": "2024-08-12T21:01:40.470Z"
   },
   {
    "duration": 5,
    "start_time": "2024-08-12T21:01:40.545Z"
   },
   {
    "duration": 870,
    "start_time": "2024-08-12T21:01:40.554Z"
   },
   {
    "duration": 21593,
    "start_time": "2024-08-12T21:01:41.427Z"
   },
   {
    "duration": 14,
    "start_time": "2024-08-12T21:02:03.024Z"
   },
   {
    "duration": 5,
    "start_time": "2024-08-12T21:02:03.041Z"
   },
   {
    "duration": 17,
    "start_time": "2024-08-12T21:02:03.049Z"
   },
   {
    "duration": 7,
    "start_time": "2024-08-12T21:02:03.068Z"
   },
   {
    "duration": 24610,
    "start_time": "2024-08-12T21:02:03.079Z"
   },
   {
    "duration": 515,
    "start_time": "2024-08-12T21:02:27.692Z"
   },
   {
    "duration": 8,
    "start_time": "2024-08-12T21:02:28.210Z"
   },
   {
    "duration": 14,
    "start_time": "2024-08-12T21:02:28.221Z"
   },
   {
    "duration": 5,
    "start_time": "2024-08-12T21:02:28.238Z"
   },
   {
    "duration": 364,
    "start_time": "2024-08-12T21:02:28.246Z"
   },
   {
    "duration": 5,
    "start_time": "2024-08-12T21:02:28.614Z"
   },
   {
    "duration": 387,
    "start_time": "2024-08-12T21:02:28.634Z"
   },
   {
    "duration": 12,
    "start_time": "2024-08-12T21:02:29.024Z"
   },
   {
    "duration": 395,
    "start_time": "2024-08-12T21:02:29.039Z"
   },
   {
    "duration": 257,
    "start_time": "2024-08-12T21:07:38.408Z"
   },
   {
    "duration": 10,
    "start_time": "2024-08-12T21:07:41.902Z"
   },
   {
    "duration": 8,
    "start_time": "2024-08-12T21:07:43.195Z"
   },
   {
    "duration": 5,
    "start_time": "2024-08-12T21:07:47.204Z"
   },
   {
    "duration": 134,
    "start_time": "2024-08-12T21:07:48.471Z"
   },
   {
    "duration": 357,
    "start_time": "2024-08-12T21:17:14.203Z"
   },
   {
    "duration": 1250,
    "start_time": "2024-08-12T21:17:22.599Z"
   },
   {
    "duration": 1786,
    "start_time": "2024-08-12T21:26:45.309Z"
   },
   {
    "duration": 40,
    "start_time": "2024-08-12T21:26:47.099Z"
   },
   {
    "duration": 24,
    "start_time": "2024-08-12T21:26:47.143Z"
   },
   {
    "duration": 12,
    "start_time": "2024-08-12T21:26:47.170Z"
   },
   {
    "duration": 6,
    "start_time": "2024-08-12T21:26:47.186Z"
   },
   {
    "duration": 5,
    "start_time": "2024-08-12T21:26:47.234Z"
   },
   {
    "duration": 13,
    "start_time": "2024-08-12T21:26:47.241Z"
   },
   {
    "duration": 2397,
    "start_time": "2024-08-12T21:26:47.257Z"
   },
   {
    "duration": 112,
    "start_time": "2024-08-12T21:26:49.659Z"
   },
   {
    "duration": 14,
    "start_time": "2024-08-12T21:26:49.777Z"
   },
   {
    "duration": 419,
    "start_time": "2024-08-12T21:26:49.796Z"
   },
   {
    "duration": 329,
    "start_time": "2024-08-12T21:26:50.217Z"
   },
   {
    "duration": 221,
    "start_time": "2024-08-12T21:26:50.549Z"
   },
   {
    "duration": 15,
    "start_time": "2024-08-12T21:26:50.780Z"
   },
   {
    "duration": 40,
    "start_time": "2024-08-12T21:26:50.799Z"
   },
   {
    "duration": 24,
    "start_time": "2024-08-12T21:26:50.844Z"
   },
   {
    "duration": 70,
    "start_time": "2024-08-12T21:26:50.873Z"
   },
   {
    "duration": 7,
    "start_time": "2024-08-12T21:26:50.955Z"
   },
   {
    "duration": 9,
    "start_time": "2024-08-12T21:26:50.968Z"
   },
   {
    "duration": 7,
    "start_time": "2024-08-12T21:26:50.980Z"
   },
   {
    "duration": 10,
    "start_time": "2024-08-12T21:26:51.036Z"
   },
   {
    "duration": 567,
    "start_time": "2024-08-12T21:26:51.050Z"
   },
   {
    "duration": 0,
    "start_time": "2024-08-12T21:26:51.620Z"
   },
   {
    "duration": 0,
    "start_time": "2024-08-12T21:26:51.623Z"
   },
   {
    "duration": 0,
    "start_time": "2024-08-12T21:26:51.634Z"
   },
   {
    "duration": 0,
    "start_time": "2024-08-12T21:26:51.636Z"
   },
   {
    "duration": 0,
    "start_time": "2024-08-12T21:26:51.638Z"
   },
   {
    "duration": 0,
    "start_time": "2024-08-12T21:26:51.640Z"
   },
   {
    "duration": 0,
    "start_time": "2024-08-12T21:26:51.642Z"
   },
   {
    "duration": 0,
    "start_time": "2024-08-12T21:26:51.644Z"
   },
   {
    "duration": 0,
    "start_time": "2024-08-12T21:26:51.646Z"
   },
   {
    "duration": 0,
    "start_time": "2024-08-12T21:26:51.647Z"
   },
   {
    "duration": 0,
    "start_time": "2024-08-12T21:26:51.649Z"
   },
   {
    "duration": 0,
    "start_time": "2024-08-12T21:26:51.651Z"
   },
   {
    "duration": 0,
    "start_time": "2024-08-12T21:26:51.653Z"
   },
   {
    "duration": 0,
    "start_time": "2024-08-12T21:26:51.655Z"
   },
   {
    "duration": 0,
    "start_time": "2024-08-12T21:26:51.659Z"
   },
   {
    "duration": 1822,
    "start_time": "2024-08-12T21:28:32.612Z"
   },
   {
    "duration": 41,
    "start_time": "2024-08-12T21:28:34.438Z"
   },
   {
    "duration": 22,
    "start_time": "2024-08-12T21:28:34.482Z"
   },
   {
    "duration": 28,
    "start_time": "2024-08-12T21:28:34.508Z"
   },
   {
    "duration": 5,
    "start_time": "2024-08-12T21:28:34.541Z"
   },
   {
    "duration": 5,
    "start_time": "2024-08-12T21:28:34.549Z"
   },
   {
    "duration": 9,
    "start_time": "2024-08-12T21:28:34.558Z"
   },
   {
    "duration": 1565,
    "start_time": "2024-08-12T21:28:34.570Z"
   },
   {
    "duration": 108,
    "start_time": "2024-08-12T21:28:36.141Z"
   },
   {
    "duration": 11,
    "start_time": "2024-08-12T21:28:36.252Z"
   },
   {
    "duration": 321,
    "start_time": "2024-08-12T21:28:36.266Z"
   },
   {
    "duration": 294,
    "start_time": "2024-08-12T21:28:36.590Z"
   },
   {
    "duration": 201,
    "start_time": "2024-08-12T21:28:36.887Z"
   },
   {
    "duration": 15,
    "start_time": "2024-08-12T21:28:37.095Z"
   },
   {
    "duration": 35,
    "start_time": "2024-08-12T21:28:37.112Z"
   },
   {
    "duration": 10,
    "start_time": "2024-08-12T21:28:37.149Z"
   },
   {
    "duration": 74,
    "start_time": "2024-08-12T21:28:37.161Z"
   },
   {
    "duration": 3,
    "start_time": "2024-08-12T21:28:37.238Z"
   },
   {
    "duration": 5,
    "start_time": "2024-08-12T21:28:37.244Z"
   },
   {
    "duration": 83,
    "start_time": "2024-08-12T21:28:37.252Z"
   },
   {
    "duration": 8,
    "start_time": "2024-08-12T21:28:37.338Z"
   },
   {
    "duration": 1848,
    "start_time": "2024-08-12T21:38:40.736Z"
   },
   {
    "duration": 49,
    "start_time": "2024-08-12T21:38:42.589Z"
   },
   {
    "duration": 23,
    "start_time": "2024-08-12T21:38:42.641Z"
   },
   {
    "duration": 9,
    "start_time": "2024-08-12T21:38:42.667Z"
   },
   {
    "duration": 6,
    "start_time": "2024-08-12T21:38:42.680Z"
   },
   {
    "duration": 4,
    "start_time": "2024-08-12T21:38:42.689Z"
   },
   {
    "duration": 11,
    "start_time": "2024-08-12T21:38:42.735Z"
   },
   {
    "duration": 1511,
    "start_time": "2024-08-12T21:38:42.748Z"
   },
   {
    "duration": 101,
    "start_time": "2024-08-12T21:38:44.335Z"
   },
   {
    "duration": 10,
    "start_time": "2024-08-12T21:38:44.439Z"
   },
   {
    "duration": 311,
    "start_time": "2024-08-12T21:38:44.452Z"
   },
   {
    "duration": 290,
    "start_time": "2024-08-12T21:38:44.766Z"
   },
   {
    "duration": 207,
    "start_time": "2024-08-12T21:38:45.059Z"
   },
   {
    "duration": 14,
    "start_time": "2024-08-12T21:38:45.273Z"
   },
   {
    "duration": 52,
    "start_time": "2024-08-12T21:38:45.290Z"
   },
   {
    "duration": 8,
    "start_time": "2024-08-12T21:38:45.347Z"
   },
   {
    "duration": 77,
    "start_time": "2024-08-12T21:38:45.358Z"
   },
   {
    "duration": 4,
    "start_time": "2024-08-12T21:38:45.438Z"
   },
   {
    "duration": 89,
    "start_time": "2024-08-12T21:38:45.444Z"
   },
   {
    "duration": 7,
    "start_time": "2024-08-12T21:38:45.537Z"
   },
   {
    "duration": 8,
    "start_time": "2024-08-12T21:38:45.548Z"
   },
   {
    "duration": 1725,
    "start_time": "2024-08-12T21:40:04.085Z"
   },
   {
    "duration": 42,
    "start_time": "2024-08-12T21:40:05.813Z"
   },
   {
    "duration": 22,
    "start_time": "2024-08-12T21:40:05.859Z"
   },
   {
    "duration": 9,
    "start_time": "2024-08-12T21:40:05.884Z"
   },
   {
    "duration": 37,
    "start_time": "2024-08-12T21:40:05.897Z"
   },
   {
    "duration": 4,
    "start_time": "2024-08-12T21:40:05.940Z"
   },
   {
    "duration": 13,
    "start_time": "2024-08-12T21:40:05.948Z"
   },
   {
    "duration": 1672,
    "start_time": "2024-08-12T21:40:05.964Z"
   },
   {
    "duration": 108,
    "start_time": "2024-08-12T21:40:07.639Z"
   },
   {
    "duration": 13,
    "start_time": "2024-08-12T21:40:07.750Z"
   },
   {
    "duration": 318,
    "start_time": "2024-08-12T21:40:07.765Z"
   },
   {
    "duration": 304,
    "start_time": "2024-08-12T21:40:08.086Z"
   },
   {
    "duration": 203,
    "start_time": "2024-08-12T21:40:08.393Z"
   },
   {
    "duration": 15,
    "start_time": "2024-08-12T21:40:08.604Z"
   },
   {
    "duration": 25,
    "start_time": "2024-08-12T21:40:08.635Z"
   },
   {
    "duration": 73,
    "start_time": "2024-08-12T21:40:08.664Z"
   },
   {
    "duration": 9,
    "start_time": "2024-08-12T21:40:08.741Z"
   },
   {
    "duration": 5,
    "start_time": "2024-08-12T21:40:08.754Z"
   },
   {
    "duration": 7,
    "start_time": "2024-08-12T21:40:08.835Z"
   },
   {
    "duration": 10,
    "start_time": "2024-08-12T21:40:08.845Z"
   },
   {
    "duration": 12,
    "start_time": "2024-08-12T21:40:08.859Z"
   },
   {
    "duration": 276659,
    "start_time": "2024-08-12T21:40:08.875Z"
   },
   {
    "duration": 53526,
    "start_time": "2024-08-12T21:44:45.537Z"
   },
   {
    "duration": 95,
    "start_time": "2024-08-12T21:45:39.066Z"
   },
   {
    "duration": 6,
    "start_time": "2024-08-12T21:45:39.169Z"
   },
   {
    "duration": 759,
    "start_time": "2024-08-12T21:45:39.179Z"
   },
   {
    "duration": 0,
    "start_time": "2024-08-12T21:45:39.942Z"
   },
   {
    "duration": 0,
    "start_time": "2024-08-12T21:45:39.944Z"
   },
   {
    "duration": 0,
    "start_time": "2024-08-12T21:45:39.946Z"
   },
   {
    "duration": 0,
    "start_time": "2024-08-12T21:45:39.948Z"
   },
   {
    "duration": 0,
    "start_time": "2024-08-12T21:45:39.952Z"
   },
   {
    "duration": 0,
    "start_time": "2024-08-12T21:45:39.955Z"
   },
   {
    "duration": 0,
    "start_time": "2024-08-12T21:45:39.958Z"
   },
   {
    "duration": 0,
    "start_time": "2024-08-12T21:45:39.960Z"
   },
   {
    "duration": 0,
    "start_time": "2024-08-12T21:45:39.962Z"
   },
   {
    "duration": 0,
    "start_time": "2024-08-12T21:45:39.964Z"
   },
   {
    "duration": 0,
    "start_time": "2024-08-12T21:45:39.966Z"
   },
   {
    "duration": 0,
    "start_time": "2024-08-12T21:45:39.969Z"
   },
   {
    "duration": 31,
    "start_time": "2024-08-12T21:47:09.356Z"
   },
   {
    "duration": 15,
    "start_time": "2024-08-12T21:48:18.907Z"
   },
   {
    "duration": 7,
    "start_time": "2024-08-12T21:48:20.256Z"
   },
   {
    "duration": 20303,
    "start_time": "2024-08-12T21:48:21.638Z"
   },
   {
    "duration": 425,
    "start_time": "2024-08-12T21:48:44.277Z"
   },
   {
    "duration": 5,
    "start_time": "2024-08-12T21:48:45.415Z"
   },
   {
    "duration": 4,
    "start_time": "2024-08-12T21:48:47.427Z"
   },
   {
    "duration": 4,
    "start_time": "2024-08-12T21:48:48.348Z"
   },
   {
    "duration": 336,
    "start_time": "2024-08-12T21:48:49.154Z"
   },
   {
    "duration": 4,
    "start_time": "2024-08-12T21:48:54.234Z"
   },
   {
    "duration": 312,
    "start_time": "2024-08-12T21:48:56.915Z"
   },
   {
    "duration": 5,
    "start_time": "2024-08-12T21:49:23.054Z"
   },
   {
    "duration": 310,
    "start_time": "2024-08-12T21:49:24.815Z"
   }
  ],
  "kernelspec": {
   "display_name": "Python 3 (ipykernel)",
   "language": "python",
   "name": "python3"
  },
  "language_info": {
   "codemirror_mode": {
    "name": "ipython",
    "version": 3
   },
   "file_extension": ".py",
   "mimetype": "text/x-python",
   "name": "python",
   "nbconvert_exporter": "python",
   "pygments_lexer": "ipython3",
   "version": "3.9.19"
  },
  "toc": {
   "base_numbering": 1,
   "nav_menu": {},
   "number_sections": true,
   "sideBar": true,
   "skip_h1_title": true,
   "title_cell": "Table of Contents",
   "title_sidebar": "Contents",
   "toc_cell": false,
   "toc_position": {},
   "toc_section_display": true,
   "toc_window_display": false
  }
 },
 "nbformat": 4,
 "nbformat_minor": 2
}
